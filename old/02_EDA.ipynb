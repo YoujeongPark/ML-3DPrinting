{
 "cells": [
  {
   "cell_type": "code",
   "execution_count": 1,
   "metadata": {},
   "outputs": [
    {
     "name": "stdout",
     "output_type": "stream",
     "text": [
      "python 3.6.10\n",
      "pandas 1.0.4\n",
      "numpy 1.18.5\n"
     ]
    }
   ],
   "source": [
    "from platform import python_version\n",
    "import pandas as pd\n",
    "import numpy as np \n",
    "import datetime\n",
    "from sklearn.model_selection import train_test_split\n",
    "from sklearn.preprocessing import StandardScaler\n",
    "from sklearn.linear_model import LinearRegression\n",
    "from sklearn.model_selection import cross_val_score\n",
    "from sklearn.metrics import mean_squared_error\n",
    "from sklearn.metrics import make_scorer, mean_squared_error\n",
    "from sklearn.multioutput import MultiOutputRegressor\n",
    "import lightgbm as lgb\n",
    "import xgboost as xgb\n",
    "\n",
    "print(f'python {python_version()}')\n",
    "print(f'pandas {pd.__version__}')\n",
    "print(f'numpy {np.__version__}')"
   ]
  },
  {
   "cell_type": "code",
   "execution_count": 2,
   "metadata": {},
   "outputs": [
    {
     "data": {
      "text/html": [
       "<div>\n",
       "<style scoped>\n",
       "    .dataframe tbody tr th:only-of-type {\n",
       "        vertical-align: middle;\n",
       "    }\n",
       "\n",
       "    .dataframe tbody tr th {\n",
       "        vertical-align: top;\n",
       "    }\n",
       "\n",
       "    .dataframe thead th {\n",
       "        text-align: right;\n",
       "    }\n",
       "</style>\n",
       "<table border=\"1\" class=\"dataframe\">\n",
       "  <thead>\n",
       "    <tr style=\"text-align: right;\">\n",
       "      <th></th>\n",
       "      <th>Power(W)</th>\n",
       "      <th>Speed</th>\n",
       "      <th>Max1</th>\n",
       "      <th>Max2</th>\n",
       "      <th>Max3</th>\n",
       "      <th>Max4</th>\n",
       "      <th>Max5</th>\n",
       "      <th>Min1</th>\n",
       "      <th>Min2</th>\n",
       "      <th>Min3</th>\n",
       "      <th>Min4</th>\n",
       "      <th>Min5</th>\n",
       "      <th>Max Avg</th>\n",
       "      <th>Min Avg</th>\n",
       "      <th>Avg</th>\n",
       "      <th>Gap</th>\n",
       "      <th>Stabilty</th>\n",
       "      <th>Spattering</th>\n",
       "      <th>Keyhole induced pore</th>\n",
       "    </tr>\n",
       "  </thead>\n",
       "  <tbody>\n",
       "    <tr>\n",
       "      <th>0</th>\n",
       "      <td>110</td>\n",
       "      <td>2200</td>\n",
       "      <td>30.01</td>\n",
       "      <td>30.00</td>\n",
       "      <td>30.08</td>\n",
       "      <td>29.42</td>\n",
       "      <td>30.77</td>\n",
       "      <td>17.15</td>\n",
       "      <td>17.86</td>\n",
       "      <td>16.43</td>\n",
       "      <td>15.37</td>\n",
       "      <td>16.79</td>\n",
       "      <td>30.06</td>\n",
       "      <td>16.72</td>\n",
       "      <td>23.39</td>\n",
       "      <td>13.34</td>\n",
       "      <td>0.2</td>\n",
       "      <td>1.0</td>\n",
       "      <td>1.0</td>\n",
       "    </tr>\n",
       "    <tr>\n",
       "      <th>1</th>\n",
       "      <td>140</td>\n",
       "      <td>2200</td>\n",
       "      <td>40.81</td>\n",
       "      <td>41.93</td>\n",
       "      <td>42.88</td>\n",
       "      <td>41.43</td>\n",
       "      <td>42.90</td>\n",
       "      <td>30.48</td>\n",
       "      <td>31.91</td>\n",
       "      <td>31.43</td>\n",
       "      <td>30.72</td>\n",
       "      <td>30.00</td>\n",
       "      <td>41.99</td>\n",
       "      <td>30.91</td>\n",
       "      <td>36.45</td>\n",
       "      <td>11.08</td>\n",
       "      <td>0.3</td>\n",
       "      <td>0.0</td>\n",
       "      <td>1.0</td>\n",
       "    </tr>\n",
       "    <tr>\n",
       "      <th>2</th>\n",
       "      <td>180</td>\n",
       "      <td>2200</td>\n",
       "      <td>46.80</td>\n",
       "      <td>47.68</td>\n",
       "      <td>48.21</td>\n",
       "      <td>46.97</td>\n",
       "      <td>47.15</td>\n",
       "      <td>32.98</td>\n",
       "      <td>30.71</td>\n",
       "      <td>33.58</td>\n",
       "      <td>30.71</td>\n",
       "      <td>30.92</td>\n",
       "      <td>47.36</td>\n",
       "      <td>31.78</td>\n",
       "      <td>39.57</td>\n",
       "      <td>15.58</td>\n",
       "      <td>0.3</td>\n",
       "      <td>0.5</td>\n",
       "      <td>1.0</td>\n",
       "    </tr>\n",
       "    <tr>\n",
       "      <th>3</th>\n",
       "      <td>210</td>\n",
       "      <td>2200</td>\n",
       "      <td>49.33</td>\n",
       "      <td>50.37</td>\n",
       "      <td>51.08</td>\n",
       "      <td>49.67</td>\n",
       "      <td>50.73</td>\n",
       "      <td>44.59</td>\n",
       "      <td>44.08</td>\n",
       "      <td>44.56</td>\n",
       "      <td>44.84</td>\n",
       "      <td>44.79</td>\n",
       "      <td>50.24</td>\n",
       "      <td>44.57</td>\n",
       "      <td>47.40</td>\n",
       "      <td>5.66</td>\n",
       "      <td>0.4</td>\n",
       "      <td>1.0</td>\n",
       "      <td>1.0</td>\n",
       "    </tr>\n",
       "    <tr>\n",
       "      <th>4</th>\n",
       "      <td>250</td>\n",
       "      <td>2200</td>\n",
       "      <td>56.43</td>\n",
       "      <td>56.32</td>\n",
       "      <td>56.10</td>\n",
       "      <td>56.80</td>\n",
       "      <td>56.11</td>\n",
       "      <td>48.23</td>\n",
       "      <td>46.80</td>\n",
       "      <td>48.21</td>\n",
       "      <td>47.52</td>\n",
       "      <td>47.87</td>\n",
       "      <td>56.35</td>\n",
       "      <td>47.73</td>\n",
       "      <td>52.04</td>\n",
       "      <td>8.63</td>\n",
       "      <td>0.3</td>\n",
       "      <td>0.5</td>\n",
       "      <td>1.0</td>\n",
       "    </tr>\n",
       "  </tbody>\n",
       "</table>\n",
       "</div>"
      ],
      "text/plain": [
       "   Power(W)  Speed   Max1   Max2   Max3   Max4   Max5   Min1   Min2   Min3  \\\n",
       "0       110   2200  30.01  30.00  30.08  29.42  30.77  17.15  17.86  16.43   \n",
       "1       140   2200  40.81  41.93  42.88  41.43  42.90  30.48  31.91  31.43   \n",
       "2       180   2200  46.80  47.68  48.21  46.97  47.15  32.98  30.71  33.58   \n",
       "3       210   2200  49.33  50.37  51.08  49.67  50.73  44.59  44.08  44.56   \n",
       "4       250   2200  56.43  56.32  56.10  56.80  56.11  48.23  46.80  48.21   \n",
       "\n",
       "    Min4   Min5  Max Avg  Min Avg    Avg    Gap  Stabilty  Spattering  \\\n",
       "0  15.37  16.79    30.06    16.72  23.39  13.34       0.2         1.0   \n",
       "1  30.72  30.00    41.99    30.91  36.45  11.08       0.3         0.0   \n",
       "2  30.71  30.92    47.36    31.78  39.57  15.58       0.3         0.5   \n",
       "3  44.84  44.79    50.24    44.57  47.40   5.66       0.4         1.0   \n",
       "4  47.52  47.87    56.35    47.73  52.04   8.63       0.3         0.5   \n",
       "\n",
       "   Keyhole induced pore  \n",
       "0                   1.0  \n",
       "1                   1.0  \n",
       "2                   1.0  \n",
       "3                   1.0  \n",
       "4                   1.0  "
      ]
     },
     "execution_count": 2,
     "metadata": {},
     "output_type": "execute_result"
    }
   ],
   "source": [
    "data = pd.read_csv('../input/MoltenPool_Datasheet_v1.1_csv.csv')\n",
    "data.head(5)"
   ]
  },
  {
   "cell_type": "code",
   "execution_count": 3,
   "metadata": {},
   "outputs": [
    {
     "data": {
      "text/plain": [
       "['Power(W)',\n",
       " 'Speed',\n",
       " 'Max1',\n",
       " 'Max2',\n",
       " 'Max3',\n",
       " 'Max4',\n",
       " 'Max5',\n",
       " 'Min1',\n",
       " 'Min2',\n",
       " 'Min3',\n",
       " 'Min4',\n",
       " 'Min5',\n",
       " 'Max Avg',\n",
       " 'Min Avg',\n",
       " 'Avg',\n",
       " 'Gap',\n",
       " 'Stabilty',\n",
       " 'Spattering',\n",
       " 'Keyhole induced pore']"
      ]
     },
     "execution_count": 3,
     "metadata": {},
     "output_type": "execute_result"
    }
   ],
   "source": [
    "indexName = data.columns.tolist()\n",
    "indexName"
   ]
  },
  {
   "cell_type": "code",
   "execution_count": 4,
   "metadata": {},
   "outputs": [],
   "source": [
    "eraseName = ['Max1','Max2','Max3','Max4','Max5','Min1','Min2','Min3','Min4','Min5']"
   ]
  },
  {
   "cell_type": "code",
   "execution_count": 5,
   "metadata": {},
   "outputs": [],
   "source": [
    "data = data.drop(eraseName,axis=1)"
   ]
  },
  {
   "cell_type": "markdown",
   "metadata": {},
   "source": [
    "## Data Analysis "
   ]
  },
  {
   "cell_type": "code",
   "execution_count": 6,
   "metadata": {},
   "outputs": [],
   "source": [
    "copyData = data.copy()\n",
    "x_data_list = ['Power(W)','Speed']\n",
    "dummy_erase_list = ['Keyhole induced pore']"
   ]
  },
  {
   "cell_type": "code",
   "execution_count": null,
   "metadata": {},
   "outputs": [],
   "source": [
    "x_data = copyData[x_data_list]\n",
    "y_data = copyData.drop(erase_list, axis=1)"
   ]
  },
  {
   "cell_type": "code",
   "execution_count": null,
   "metadata": {},
   "outputs": [],
   "source": []
  },
  {
   "cell_type": "code",
   "execution_count": null,
   "metadata": {},
   "outputs": [],
   "source": []
  },
  {
   "cell_type": "code",
   "execution_count": null,
   "metadata": {},
   "outputs": [],
   "source": []
  }
 ],
 "metadata": {
  "kernelspec": {
   "display_name": "py36",
   "language": "python",
   "name": "py36"
  },
  "language_info": {
   "codemirror_mode": {
    "name": "ipython",
    "version": 3
   },
   "file_extension": ".py",
   "mimetype": "text/x-python",
   "name": "python",
   "nbconvert_exporter": "python",
   "pygments_lexer": "ipython3",
   "version": "3.6.10"
  }
 },
 "nbformat": 4,
 "nbformat_minor": 4
}
