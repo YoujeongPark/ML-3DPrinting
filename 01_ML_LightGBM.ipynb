{
 "cells": [
  {
   "cell_type": "code",
   "execution_count": 1,
   "id": "e53c45ff",
   "metadata": {},
   "outputs": [],
   "source": [
    "import tensorflow as tf\n",
    "import pandas as pd\n",
    "import numpy as np\n",
    "import seaborn as sns\n",
    "from tensorflow.keras import models, layers, regularizers\n",
    "import sklearn\n",
    "import matplotlib as mpl\n",
    "import matplotlib.pyplot as plt\n",
    "import matplotlib.font_manager as fm\n",
    "import warnings\n",
    "import scipy.stats as stats\n",
    "import urllib\n",
    "from sklearn import datasets\n",
    "from sklearn.preprocessing import StandardScaler, MinMaxScaler, PolynomialFeatures\n",
    "import scipy.stats\n",
    "from sklearn.metrics import r2_score\n",
    "from scipy.stats import skew\n",
    "from sklearn.model_selection import train_test_split\n",
    "from sklearn.metrics import mean_squared_error\n",
    "from math import sqrt\n",
    "import numpy as np\n",
    "from sklearn.metrics import mean_squared_error, r2_score\n",
    "import os\n",
    "import matplotlib.pyplot as plt\n",
    "from sklearn.model_selection import train_test_split\n",
    "from sklearn.preprocessing import StandardScaler\n",
    "from sklearn.linear_model import LinearRegression\n",
    "from sklearn.model_selection import cross_val_score\n",
    "from sklearn.metrics import mean_squared_error\n",
    "from sklearn.linear_model import Ridge\n",
    "from sklearn.linear_model import Lasso\n",
    "from sklearn.linear_model import ElasticNet\n",
    "from sklearn.ensemble import GradientBoostingRegressor\n",
    "from sklearn.svm import SVR\n",
    "from sklearn.ensemble import RandomForestRegressor\n",
    "from sklearn.metrics import mean_squared_error, r2_score\n",
    "import lightgbm as lgb\n"
   ]
  },
  {
   "cell_type": "code",
   "execution_count": 2,
   "id": "b03c1391",
   "metadata": {},
   "outputs": [],
   "source": [
    "np.random.seed(0)\n",
    "s = 117\n",
    "_max = 500"
   ]
  },
  {
   "cell_type": "code",
   "execution_count": 3,
   "id": "96386a8a",
   "metadata": {},
   "outputs": [
    {
     "data": {
      "text/html": [
       "<div>\n",
       "<style scoped>\n",
       "    .dataframe tbody tr th:only-of-type {\n",
       "        vertical-align: middle;\n",
       "    }\n",
       "\n",
       "    .dataframe tbody tr th {\n",
       "        vertical-align: top;\n",
       "    }\n",
       "\n",
       "    .dataframe thead th {\n",
       "        text-align: right;\n",
       "    }\n",
       "</style>\n",
       "<table border=\"1\" class=\"dataframe\">\n",
       "  <thead>\n",
       "    <tr style=\"text-align: right;\">\n",
       "      <th></th>\n",
       "      <th>Laserpower</th>\n",
       "      <th>Scanspeed</th>\n",
       "      <th>LayerThickness</th>\n",
       "      <th>Stability</th>\n",
       "      <th>Width</th>\n",
       "      <th>Depth</th>\n",
       "      <th>ContactAngle</th>\n",
       "      <th>DenudationWidth</th>\n",
       "    </tr>\n",
       "  </thead>\n",
       "  <tbody>\n",
       "    <tr>\n",
       "      <th>0</th>\n",
       "      <td>50</td>\n",
       "      <td>200</td>\n",
       "      <td>0</td>\n",
       "      <td>o</td>\n",
       "      <td>68.597444</td>\n",
       "      <td>NaN</td>\n",
       "      <td>NaN</td>\n",
       "      <td>NaN</td>\n",
       "    </tr>\n",
       "    <tr>\n",
       "      <th>1</th>\n",
       "      <td>100</td>\n",
       "      <td>200</td>\n",
       "      <td>0</td>\n",
       "      <td>o</td>\n",
       "      <td>133.185444</td>\n",
       "      <td>NaN</td>\n",
       "      <td>NaN</td>\n",
       "      <td>NaN</td>\n",
       "    </tr>\n",
       "    <tr>\n",
       "      <th>2</th>\n",
       "      <td>150</td>\n",
       "      <td>200</td>\n",
       "      <td>0</td>\n",
       "      <td>o</td>\n",
       "      <td>177.784333</td>\n",
       "      <td>NaN</td>\n",
       "      <td>NaN</td>\n",
       "      <td>NaN</td>\n",
       "    </tr>\n",
       "    <tr>\n",
       "      <th>3</th>\n",
       "      <td>200</td>\n",
       "      <td>200</td>\n",
       "      <td>0</td>\n",
       "      <td>o</td>\n",
       "      <td>186.593778</td>\n",
       "      <td>372.251333</td>\n",
       "      <td>29.420167</td>\n",
       "      <td>NaN</td>\n",
       "    </tr>\n",
       "    <tr>\n",
       "      <th>4</th>\n",
       "      <td>250</td>\n",
       "      <td>200</td>\n",
       "      <td>0</td>\n",
       "      <td>o</td>\n",
       "      <td>189.625000</td>\n",
       "      <td>500.697333</td>\n",
       "      <td>44.163167</td>\n",
       "      <td>NaN</td>\n",
       "    </tr>\n",
       "  </tbody>\n",
       "</table>\n",
       "</div>"
      ],
      "text/plain": [
       "   Laserpower  Scanspeed  LayerThickness   Stability       Width       Depth  \\\n",
       "0          50        200                 0         o   68.597444         NaN   \n",
       "1         100        200                 0         o  133.185444         NaN   \n",
       "2         150        200                 0         o  177.784333         NaN   \n",
       "3         200        200                 0         o  186.593778  372.251333   \n",
       "4         250        200                 0         o  189.625000  500.697333   \n",
       "\n",
       "   ContactAngle  DenudationWidth  \n",
       "0           NaN              NaN  \n",
       "1           NaN              NaN  \n",
       "2           NaN              NaN  \n",
       "3     29.420167              NaN  \n",
       "4     44.163167              NaN  "
      ]
     },
     "execution_count": 3,
     "metadata": {},
     "output_type": "execute_result"
    }
   ],
   "source": [
    "data = pd.read_csv('./data_01.csv')\n",
    "#data =data.drop([\"Stability\"],axis=1,inplace=False)\n",
    "data.head(5)"
   ]
  },
  {
   "cell_type": "code",
   "execution_count": 4,
   "id": "32a09147",
   "metadata": {},
   "outputs": [
    {
     "data": {
      "text/html": [
       "<div>\n",
       "<style scoped>\n",
       "    .dataframe tbody tr th:only-of-type {\n",
       "        vertical-align: middle;\n",
       "    }\n",
       "\n",
       "    .dataframe tbody tr th {\n",
       "        vertical-align: top;\n",
       "    }\n",
       "\n",
       "    .dataframe thead th {\n",
       "        text-align: right;\n",
       "    }\n",
       "</style>\n",
       "<table border=\"1\" class=\"dataframe\">\n",
       "  <thead>\n",
       "    <tr style=\"text-align: right;\">\n",
       "      <th></th>\n",
       "      <th>Laserpower</th>\n",
       "      <th>Scanspeed</th>\n",
       "      <th>LayerThickness</th>\n",
       "      <th>Stability</th>\n",
       "      <th>Width</th>\n",
       "      <th>Depth</th>\n",
       "      <th>ContactAngle</th>\n",
       "      <th>DenudationWidth</th>\n",
       "    </tr>\n",
       "  </thead>\n",
       "  <tbody>\n",
       "    <tr>\n",
       "      <th>0</th>\n",
       "      <td>50</td>\n",
       "      <td>200</td>\n",
       "      <td>0</td>\n",
       "      <td>o</td>\n",
       "      <td>68.597444</td>\n",
       "      <td>NaN</td>\n",
       "      <td>NaN</td>\n",
       "      <td>NaN</td>\n",
       "    </tr>\n",
       "    <tr>\n",
       "      <th>1</th>\n",
       "      <td>100</td>\n",
       "      <td>200</td>\n",
       "      <td>0</td>\n",
       "      <td>o</td>\n",
       "      <td>133.185444</td>\n",
       "      <td>NaN</td>\n",
       "      <td>NaN</td>\n",
       "      <td>NaN</td>\n",
       "    </tr>\n",
       "    <tr>\n",
       "      <th>2</th>\n",
       "      <td>150</td>\n",
       "      <td>200</td>\n",
       "      <td>0</td>\n",
       "      <td>o</td>\n",
       "      <td>177.784333</td>\n",
       "      <td>NaN</td>\n",
       "      <td>NaN</td>\n",
       "      <td>NaN</td>\n",
       "    </tr>\n",
       "    <tr>\n",
       "      <th>3</th>\n",
       "      <td>200</td>\n",
       "      <td>200</td>\n",
       "      <td>0</td>\n",
       "      <td>o</td>\n",
       "      <td>186.593778</td>\n",
       "      <td>372.251333</td>\n",
       "      <td>29.420167</td>\n",
       "      <td>NaN</td>\n",
       "    </tr>\n",
       "    <tr>\n",
       "      <th>4</th>\n",
       "      <td>250</td>\n",
       "      <td>200</td>\n",
       "      <td>0</td>\n",
       "      <td>o</td>\n",
       "      <td>189.625000</td>\n",
       "      <td>500.697333</td>\n",
       "      <td>44.163167</td>\n",
       "      <td>NaN</td>\n",
       "    </tr>\n",
       "  </tbody>\n",
       "</table>\n",
       "</div>"
      ],
      "text/plain": [
       "   Laserpower  Scanspeed  LayerThickness   Stability       Width       Depth  \\\n",
       "0          50        200                 0         o   68.597444         NaN   \n",
       "1         100        200                 0         o  133.185444         NaN   \n",
       "2         150        200                 0         o  177.784333         NaN   \n",
       "3         200        200                 0         o  186.593778  372.251333   \n",
       "4         250        200                 0         o  189.625000  500.697333   \n",
       "\n",
       "   ContactAngle  DenudationWidth  \n",
       "0           NaN              NaN  \n",
       "1           NaN              NaN  \n",
       "2           NaN              NaN  \n",
       "3     29.420167              NaN  \n",
       "4     44.163167              NaN  "
      ]
     },
     "execution_count": 4,
     "metadata": {},
     "output_type": "execute_result"
    }
   ],
   "source": [
    "data.head(5)"
   ]
  },
  {
   "cell_type": "code",
   "execution_count": 5,
   "id": "e0af8dd7",
   "metadata": {},
   "outputs": [
    {
     "name": "stdout",
     "output_type": "stream",
     "text": [
      "(700, 8)\n"
     ]
    }
   ],
   "source": [
    "print(data.shape)"
   ]
  },
  {
   "cell_type": "code",
   "execution_count": 6,
   "id": "784c7811",
   "metadata": {},
   "outputs": [],
   "source": [
    "data_width = data.copy()\n",
    "data_depth = data.copy()\n",
    "data_CA = data.copy()\n",
    "data_Deun = data.copy()"
   ]
  },
  {
   "cell_type": "code",
   "execution_count": 7,
   "id": "108dda8d",
   "metadata": {},
   "outputs": [],
   "source": [
    "data_width = data_width.drop(['Depth', 'ContactAngle', 'DenudationWidth'], axis = 1).dropna()\n",
    "data_depth = data_depth.drop(['Width', 'ContactAngle', 'DenudationWidth'], axis = 1).dropna()\n",
    "data_CA = data_CA.drop(['Width', 'Depth', 'DenudationWidth'], axis = 1).dropna()\n",
    "data_Deun = data_Deun.drop(['Width', 'Depth', 'ContactAngle'], axis = 1).dropna()"
   ]
  },
  {
   "cell_type": "code",
   "execution_count": 8,
   "id": "6beff940",
   "metadata": {},
   "outputs": [
    {
     "name": "stdout",
     "output_type": "stream",
     "text": [
      "(338, 5)\n",
      "(317, 5)\n",
      "(318, 5)\n",
      "(208, 5)\n"
     ]
    }
   ],
   "source": [
    "print(data_width.shape)\n",
    "print(data_depth.shape)\n",
    "print(data_CA.shape)\n",
    "print(data_Deun.shape)"
   ]
  },
  {
   "cell_type": "code",
   "execution_count": 9,
   "id": "e4750465",
   "metadata": {},
   "outputs": [
    {
     "name": "stdout",
     "output_type": "stream",
     "text": [
      "Laserpower          0\n",
      "Scanspeed           0\n",
      "LayerThickness      0\n",
      "Stability           0\n",
      "Width               0\n",
      "dtype: int64\n",
      "Laserpower          0\n",
      "Scanspeed           0\n",
      "LayerThickness      0\n",
      "Stability           0\n",
      "Depth               0\n",
      "dtype: int64\n",
      "Laserpower          0\n",
      "Scanspeed           0\n",
      "LayerThickness      0\n",
      "Stability           0\n",
      "ContactAngle        0\n",
      "dtype: int64\n",
      "Laserpower          0\n",
      "Scanspeed           0\n",
      "LayerThickness      0\n",
      "Stability           0\n",
      "DenudationWidth     0\n",
      "dtype: int64\n"
     ]
    }
   ],
   "source": [
    "print(data_width.isnull().sum(axis = 0))\n",
    "print(data_depth.isnull().sum(axis = 0))\n",
    "print(data_CA.isnull().sum(axis = 0))\n",
    "print(data_Deun.isnull().sum(axis = 0))"
   ]
  },
  {
   "cell_type": "markdown",
   "id": "eca0ab38",
   "metadata": {},
   "source": [
    "# 1 Width"
   ]
  },
  {
   "cell_type": "code",
   "execution_count": 10,
   "id": "31d1d29a",
   "metadata": {
    "scrolled": true
   },
   "outputs": [
    {
     "data": {
      "text/html": [
       "<div>\n",
       "<style scoped>\n",
       "    .dataframe tbody tr th:only-of-type {\n",
       "        vertical-align: middle;\n",
       "    }\n",
       "\n",
       "    .dataframe tbody tr th {\n",
       "        vertical-align: top;\n",
       "    }\n",
       "\n",
       "    .dataframe thead th {\n",
       "        text-align: right;\n",
       "    }\n",
       "</style>\n",
       "<table border=\"1\" class=\"dataframe\">\n",
       "  <thead>\n",
       "    <tr style=\"text-align: right;\">\n",
       "      <th></th>\n",
       "      <th>Laserpower</th>\n",
       "      <th>Scanspeed</th>\n",
       "      <th>LayerThickness</th>\n",
       "    </tr>\n",
       "  </thead>\n",
       "  <tbody>\n",
       "    <tr>\n",
       "      <th>0</th>\n",
       "      <td>50</td>\n",
       "      <td>200</td>\n",
       "      <td>0</td>\n",
       "    </tr>\n",
       "    <tr>\n",
       "      <th>1</th>\n",
       "      <td>100</td>\n",
       "      <td>200</td>\n",
       "      <td>0</td>\n",
       "    </tr>\n",
       "    <tr>\n",
       "      <th>2</th>\n",
       "      <td>150</td>\n",
       "      <td>200</td>\n",
       "      <td>0</td>\n",
       "    </tr>\n",
       "    <tr>\n",
       "      <th>3</th>\n",
       "      <td>200</td>\n",
       "      <td>200</td>\n",
       "      <td>0</td>\n",
       "    </tr>\n",
       "    <tr>\n",
       "      <th>4</th>\n",
       "      <td>250</td>\n",
       "      <td>200</td>\n",
       "      <td>0</td>\n",
       "    </tr>\n",
       "  </tbody>\n",
       "</table>\n",
       "</div>"
      ],
      "text/plain": [
       "   Laserpower  Scanspeed  LayerThickness  \n",
       "0          50        200                 0\n",
       "1         100        200                 0\n",
       "2         150        200                 0\n",
       "3         200        200                 0\n",
       "4         250        200                 0"
      ]
     },
     "execution_count": 10,
     "metadata": {},
     "output_type": "execute_result"
    }
   ],
   "source": [
    "x_data = data_width.drop([\"Width\",\"Stability\"],axis=1,inplace=False)\n",
    "y_data = data_width[[\"Width\"]];\n",
    "x_data.head(5)"
   ]
  },
  {
   "cell_type": "code",
   "execution_count": 11,
   "id": "14795b0f",
   "metadata": {
    "scrolled": false
   },
   "outputs": [
    {
     "data": {
      "text/html": [
       "<div>\n",
       "<style scoped>\n",
       "    .dataframe tbody tr th:only-of-type {\n",
       "        vertical-align: middle;\n",
       "    }\n",
       "\n",
       "    .dataframe tbody tr th {\n",
       "        vertical-align: top;\n",
       "    }\n",
       "\n",
       "    .dataframe thead th {\n",
       "        text-align: right;\n",
       "    }\n",
       "</style>\n",
       "<table border=\"1\" class=\"dataframe\">\n",
       "  <thead>\n",
       "    <tr style=\"text-align: right;\">\n",
       "      <th></th>\n",
       "      <th>Width</th>\n",
       "    </tr>\n",
       "  </thead>\n",
       "  <tbody>\n",
       "    <tr>\n",
       "      <th>0</th>\n",
       "      <td>68.597444</td>\n",
       "    </tr>\n",
       "    <tr>\n",
       "      <th>1</th>\n",
       "      <td>133.185444</td>\n",
       "    </tr>\n",
       "    <tr>\n",
       "      <th>2</th>\n",
       "      <td>177.784333</td>\n",
       "    </tr>\n",
       "    <tr>\n",
       "      <th>3</th>\n",
       "      <td>186.593778</td>\n",
       "    </tr>\n",
       "    <tr>\n",
       "      <th>4</th>\n",
       "      <td>189.625000</td>\n",
       "    </tr>\n",
       "  </tbody>\n",
       "</table>\n",
       "</div>"
      ],
      "text/plain": [
       "        Width\n",
       "0   68.597444\n",
       "1  133.185444\n",
       "2  177.784333\n",
       "3  186.593778\n",
       "4  189.625000"
      ]
     },
     "execution_count": 11,
     "metadata": {},
     "output_type": "execute_result"
    }
   ],
   "source": [
    "y_data.head(5)"
   ]
  },
  {
   "cell_type": "code",
   "execution_count": 12,
   "id": "5678695d",
   "metadata": {},
   "outputs": [],
   "source": [
    "xtrain, xtest, ytrain, ytest = train_test_split(x_data, y_data, test_size=0.2, random_state=0)"
   ]
  },
  {
   "cell_type": "code",
   "execution_count": 13,
   "id": "be6f6496",
   "metadata": {},
   "outputs": [
    {
     "data": {
      "text/plain": [
       "array([0.50889395, 0.94137406, 0.68364404, 0.50601743, 0.83364248])"
      ]
     },
     "execution_count": 13,
     "metadata": {},
     "output_type": "execute_result"
    }
   ],
   "source": [
    "lgbm = lgb.LGBMRegressor(random_state=s, seed=s,silent=True)\n",
    "scores_lgbm = cross_val_score(lgbm, x_data, y_data, cv=5, n_jobs=-1, scoring = \"r2\")\n",
    "scores_lgbm"
   ]
  },
  {
   "cell_type": "code",
   "execution_count": 14,
   "id": "f1da142d",
   "metadata": {
    "scrolled": true
   },
   "outputs": [
    {
     "name": "stdout",
     "output_type": "stream",
     "text": [
      "[LightGBM] [Warning] seed is set=117, random_state=117 will be ignored. Current value: seed=117\n",
      "Test_R2 :  0.9358310395980284\n"
     ]
    }
   ],
   "source": [
    "fitted_model = lgbm.fit(xtrain, ytrain)\n",
    "y_train_pred= fitted_model.predict(xtrain)\n",
    "y_test_pred  = fitted_model.predict(xtest)\n",
    "print('Test_R2 : ',r2_score(ytest,np.where(y_test_pred < 0, 0, y_test_pred)))   "
   ]
  },
  {
   "cell_type": "code",
   "execution_count": 15,
   "id": "4f782ea0",
   "metadata": {
    "scrolled": false
   },
   "outputs": [
    {
     "data": {
      "image/png": "[encoded data removed]",
      "text/plain": [
       "<Figure size 432x288 with 1 Axes>"
      ]
     },
     "metadata": {
      "needs_background": "light"
     },
     "output_type": "display_data"
    },
    {
     "data": {
      "image/png": "[encoded data removed]",
      "text/plain": [
       "<Figure size 432x288 with 1 Axes>"
      ]
     },
     "metadata": {
      "needs_background": "light"
     },
     "output_type": "display_data"
    }
   ],
   "source": [
    "plt.plot([0,_max],[0,_max],color='gray',linestyle='--')\n",
    "plt.scatter(ytrain,y_train_pred, alpha=0.4,color='red')\n",
    "plt.axis([0,_max, 0,_max])\n",
    "plt.grid(True,alpha=0.5, linestyle='--')\n",
    "plt.xlabel(\"Original\")\n",
    "plt.ylabel(\"train_results\")\n",
    "plt.show()\n",
    "\n",
    "plt.plot([0,_max],[0,_max],color='gray',linestyle='--')\n",
    "plt.scatter(y_test_pred,ytest, alpha=0.4,color='red')\n",
    "plt.axis([0,_max, 0,_max])\n",
    "plt.grid(True,alpha=0.5, linestyle='--')\n",
    "plt.xlabel(\"Actual\")\n",
    "plt.ylabel(\"Predicted\")\n",
    "plt.show()"
   ]
  },
  {
   "cell_type": "markdown",
   "id": "5faba9fa",
   "metadata": {},
   "source": [
    "# 2 Depth"
   ]
  },
  {
   "cell_type": "code",
   "execution_count": 16,
   "id": "7b90b779",
   "metadata": {},
   "outputs": [
    {
     "data": {
      "text/html": [
       "<div>\n",
       "<style scoped>\n",
       "    .dataframe tbody tr th:only-of-type {\n",
       "        vertical-align: middle;\n",
       "    }\n",
       "\n",
       "    .dataframe tbody tr th {\n",
       "        vertical-align: top;\n",
       "    }\n",
       "\n",
       "    .dataframe thead th {\n",
       "        text-align: right;\n",
       "    }\n",
       "</style>\n",
       "<table border=\"1\" class=\"dataframe\">\n",
       "  <thead>\n",
       "    <tr style=\"text-align: right;\">\n",
       "      <th></th>\n",
       "      <th>Laserpower</th>\n",
       "      <th>Scanspeed</th>\n",
       "      <th>LayerThickness</th>\n",
       "    </tr>\n",
       "  </thead>\n",
       "  <tbody>\n",
       "    <tr>\n",
       "      <th>3</th>\n",
       "      <td>200</td>\n",
       "      <td>200</td>\n",
       "      <td>0</td>\n",
       "    </tr>\n",
       "    <tr>\n",
       "      <th>4</th>\n",
       "      <td>250</td>\n",
       "      <td>200</td>\n",
       "      <td>0</td>\n",
       "    </tr>\n",
       "    <tr>\n",
       "      <th>5</th>\n",
       "      <td>300</td>\n",
       "      <td>200</td>\n",
       "      <td>0</td>\n",
       "    </tr>\n",
       "    <tr>\n",
       "      <th>6</th>\n",
       "      <td>350</td>\n",
       "      <td>200</td>\n",
       "      <td>0</td>\n",
       "    </tr>\n",
       "    <tr>\n",
       "      <th>7</th>\n",
       "      <td>400</td>\n",
       "      <td>200</td>\n",
       "      <td>0</td>\n",
       "    </tr>\n",
       "  </tbody>\n",
       "</table>\n",
       "</div>"
      ],
      "text/plain": [
       "   Laserpower  Scanspeed  LayerThickness  \n",
       "3         200        200                 0\n",
       "4         250        200                 0\n",
       "5         300        200                 0\n",
       "6         350        200                 0\n",
       "7         400        200                 0"
      ]
     },
     "execution_count": 16,
     "metadata": {},
     "output_type": "execute_result"
    }
   ],
   "source": [
    "x_data = data_depth.drop([\"Depth\",\"Stability\"],axis=1,inplace=False)\n",
    "y_data = data_depth[[\"Depth\"]];\n",
    "x_data.head(5)"
   ]
  },
  {
   "cell_type": "code",
   "execution_count": 17,
   "id": "9f758866",
   "metadata": {},
   "outputs": [
    {
     "name": "stdout",
     "output_type": "stream",
     "text": [
      "[LightGBM] [Warning] seed is set=117, random_state=117 will be ignored. Current value: seed=117\n",
      "Test_R2 :  0.8893176192778277\n"
     ]
    },
    {
     "data": {
      "image/png": "[encoded data removed]",
      "text/plain": [
       "<Figure size 432x288 with 1 Axes>"
      ]
     },
     "metadata": {
      "needs_background": "light"
     },
     "output_type": "display_data"
    },
    {
     "data": {
      "image/png": "[encoded data removed]",
      "text/plain": [
       "<Figure size 432x288 with 1 Axes>"
      ]
     },
     "metadata": {
      "needs_background": "light"
     },
     "output_type": "display_data"
    }
   ],
   "source": [
    "xtrain, xtest, ytrain, ytest = train_test_split(x_data, y_data, test_size=0.2, random_state=0)\n",
    "\n",
    "lgbm = lgb.LGBMRegressor(random_state=s, seed=s,silent=True)\n",
    "scores_lgbm = cross_val_score(lgbm, x_data, y_data, cv=5, n_jobs=-1, scoring = \"r2\")\n",
    "scores_lgbm\n",
    "\n",
    "fitted_model = lgbm.fit(xtrain, ytrain)\n",
    "y_train_pred= fitted_model.predict(xtrain)\n",
    "y_test_pred  = fitted_model.predict(xtest)\n",
    "print('Test_R2 : ',r2_score(ytest,np.where(y_test_pred < 0, 0, y_test_pred)))   \n",
    "\n",
    "plt.plot([0,_max],[0,_max],color='gray',linestyle='--')\n",
    "plt.scatter(ytrain,y_train_pred, alpha=0.4,color='red')\n",
    "plt.axis([0,_max, 0,_max])\n",
    "plt.grid(True,alpha=0.5, linestyle='--')\n",
    "plt.xlabel(\"Original\")\n",
    "plt.ylabel(\"train_results\")\n",
    "plt.show()\n",
    "\n",
    "plt.plot([0,_max],[0,_max],color='gray',linestyle='--')\n",
    "plt.scatter(y_test_pred,ytest, alpha=0.4,color='red')\n",
    "plt.axis([0,_max, 0,_max])\n",
    "plt.grid(True,alpha=0.5, linestyle='--')\n",
    "plt.xlabel(\"Actual\")\n",
    "plt.ylabel(\"Predicted\")\n",
    "plt.show()"
   ]
  },
  {
   "cell_type": "markdown",
   "id": "5c4e0dae",
   "metadata": {},
   "source": [
    "# 3 ContactAngle"
   ]
  },
  {
   "cell_type": "code",
   "execution_count": 18,
   "id": "05842e95",
   "metadata": {},
   "outputs": [
    {
     "data": {
      "text/html": [
       "<div>\n",
       "<style scoped>\n",
       "    .dataframe tbody tr th:only-of-type {\n",
       "        vertical-align: middle;\n",
       "    }\n",
       "\n",
       "    .dataframe tbody tr th {\n",
       "        vertical-align: top;\n",
       "    }\n",
       "\n",
       "    .dataframe thead th {\n",
       "        text-align: right;\n",
       "    }\n",
       "</style>\n",
       "<table border=\"1\" class=\"dataframe\">\n",
       "  <thead>\n",
       "    <tr style=\"text-align: right;\">\n",
       "      <th></th>\n",
       "      <th>Laserpower</th>\n",
       "      <th>Scanspeed</th>\n",
       "      <th>LayerThickness</th>\n",
       "    </tr>\n",
       "  </thead>\n",
       "  <tbody>\n",
       "    <tr>\n",
       "      <th>3</th>\n",
       "      <td>200</td>\n",
       "      <td>200</td>\n",
       "      <td>0</td>\n",
       "    </tr>\n",
       "    <tr>\n",
       "      <th>4</th>\n",
       "      <td>250</td>\n",
       "      <td>200</td>\n",
       "      <td>0</td>\n",
       "    </tr>\n",
       "    <tr>\n",
       "      <th>5</th>\n",
       "      <td>300</td>\n",
       "      <td>200</td>\n",
       "      <td>0</td>\n",
       "    </tr>\n",
       "    <tr>\n",
       "      <th>6</th>\n",
       "      <td>350</td>\n",
       "      <td>200</td>\n",
       "      <td>0</td>\n",
       "    </tr>\n",
       "    <tr>\n",
       "      <th>7</th>\n",
       "      <td>400</td>\n",
       "      <td>200</td>\n",
       "      <td>0</td>\n",
       "    </tr>\n",
       "  </tbody>\n",
       "</table>\n",
       "</div>"
      ],
      "text/plain": [
       "   Laserpower  Scanspeed  LayerThickness  \n",
       "3         200        200                 0\n",
       "4         250        200                 0\n",
       "5         300        200                 0\n",
       "6         350        200                 0\n",
       "7         400        200                 0"
      ]
     },
     "execution_count": 18,
     "metadata": {},
     "output_type": "execute_result"
    }
   ],
   "source": [
    "x_data = data_CA.drop([\"ContactAngle\",\"Stability\"],axis=1,inplace=False)\n",
    "y_data = data_CA[[\"ContactAngle\"]];\n",
    "x_data.head(5)"
   ]
  },
  {
   "cell_type": "code",
   "execution_count": 19,
   "id": "aa032542",
   "metadata": {},
   "outputs": [
    {
     "name": "stdout",
     "output_type": "stream",
     "text": [
      "[LightGBM] [Warning] seed is set=117, random_state=117 will be ignored. Current value: seed=117\n",
      "Test_R2 :  0.6245900513896485\n"
     ]
    },
    {
     "data": {
      "image/png": "[encoded data removed]",
      "text/plain": [
       "<Figure size 432x288 with 1 Axes>"
      ]
     },
     "metadata": {
      "needs_background": "light"
     },
     "output_type": "display_data"
    },
    {
     "data": {
      "image/png": "[encoded data removed]",
      "text/plain": [
       "<Figure size 432x288 with 1 Axes>"
      ]
     },
     "metadata": {
      "needs_background": "light"
     },
     "output_type": "display_data"
    }
   ],
   "source": [
    "xtrain, xtest, ytrain, ytest = train_test_split(x_data, y_data, test_size=0.2, random_state=0)\n",
    "\n",
    "lgbm = lgb.LGBMRegressor(random_state=s, seed=s,silent=True)\n",
    "scores_lgbm = cross_val_score(lgbm, x_data, y_data, cv=5, n_jobs=-1, scoring = \"r2\")\n",
    "scores_lgbm\n",
    "\n",
    "fitted_model = lgbm.fit(xtrain, ytrain)\n",
    "y_train_pred= fitted_model.predict(xtrain)\n",
    "y_test_pred  = fitted_model.predict(xtest)\n",
    "print('Test_R2 : ',r2_score(ytest,np.where(y_test_pred < 0, 0, y_test_pred)))   \n",
    "\n",
    "plt.plot([0,_max],[0,_max],color='gray',linestyle='--')\n",
    "plt.scatter(ytrain,y_train_pred, alpha=0.4,color='red')\n",
    "plt.axis([0,_max, 0,_max])\n",
    "plt.grid(True,alpha=0.5, linestyle='--')\n",
    "plt.xlabel(\"Original\")\n",
    "plt.ylabel(\"train_results\")\n",
    "plt.show()\n",
    "\n",
    "plt.plot([0,_max],[0,_max],color='gray',linestyle='--')\n",
    "plt.scatter(y_test_pred,ytest, alpha=0.4,color='red')\n",
    "plt.axis([0,_max, 0,_max])\n",
    "plt.grid(True,alpha=0.5, linestyle='--')\n",
    "plt.xlabel(\"Actual\")\n",
    "plt.ylabel(\"Predicted\")\n",
    "plt.show()"
   ]
  },
  {
   "cell_type": "markdown",
   "id": "8ddddd27",
   "metadata": {},
   "source": [
    "# 4 DenudationWidth"
   ]
  },
  {
   "cell_type": "code",
   "execution_count": 20,
   "id": "3e91a906",
   "metadata": {},
   "outputs": [
    {
     "data": {
      "text/html": [
       "<div>\n",
       "<style scoped>\n",
       "    .dataframe tbody tr th:only-of-type {\n",
       "        vertical-align: middle;\n",
       "    }\n",
       "\n",
       "    .dataframe tbody tr th {\n",
       "        vertical-align: top;\n",
       "    }\n",
       "\n",
       "    .dataframe thead th {\n",
       "        text-align: right;\n",
       "    }\n",
       "</style>\n",
       "<table border=\"1\" class=\"dataframe\">\n",
       "  <thead>\n",
       "    <tr style=\"text-align: right;\">\n",
       "      <th></th>\n",
       "      <th>Laserpower</th>\n",
       "      <th>Scanspeed</th>\n",
       "      <th>LayerThickness</th>\n",
       "    </tr>\n",
       "  </thead>\n",
       "  <tbody>\n",
       "    <tr>\n",
       "      <th>101</th>\n",
       "      <td>100</td>\n",
       "      <td>200</td>\n",
       "      <td>20</td>\n",
       "    </tr>\n",
       "    <tr>\n",
       "      <th>102</th>\n",
       "      <td>150</td>\n",
       "      <td>200</td>\n",
       "      <td>20</td>\n",
       "    </tr>\n",
       "    <tr>\n",
       "      <th>103</th>\n",
       "      <td>200</td>\n",
       "      <td>200</td>\n",
       "      <td>20</td>\n",
       "    </tr>\n",
       "    <tr>\n",
       "      <th>104</th>\n",
       "      <td>250</td>\n",
       "      <td>200</td>\n",
       "      <td>20</td>\n",
       "    </tr>\n",
       "    <tr>\n",
       "      <th>105</th>\n",
       "      <td>300</td>\n",
       "      <td>200</td>\n",
       "      <td>20</td>\n",
       "    </tr>\n",
       "  </tbody>\n",
       "</table>\n",
       "</div>"
      ],
      "text/plain": [
       "     Laserpower  Scanspeed  LayerThickness  \n",
       "101         100        200                20\n",
       "102         150        200                20\n",
       "103         200        200                20\n",
       "104         250        200                20\n",
       "105         300        200                20"
      ]
     },
     "execution_count": 20,
     "metadata": {},
     "output_type": "execute_result"
    }
   ],
   "source": [
    "x_data = data_Deun.drop([\"DenudationWidth\",\"Stability\"],axis=1,inplace=False)\n",
    "y_data = data_Deun[[\"DenudationWidth\"]];\n",
    "x_data.head(5)"
   ]
  },
  {
   "cell_type": "code",
   "execution_count": 21,
   "id": "aad2994b",
   "metadata": {},
   "outputs": [
    {
     "name": "stdout",
     "output_type": "stream",
     "text": [
      "[LightGBM] [Warning] seed is set=117, random_state=117 will be ignored. Current value: seed=117\n",
      "Test_R2 :  0.6881418381414149\n"
     ]
    },
    {
     "data": {
      "image/png": "[encoded data removed]",
      "text/plain": [
       "<Figure size 432x288 with 1 Axes>"
      ]
     },
     "metadata": {
      "needs_background": "light"
     },
     "output_type": "display_data"
    },
    {
     "data": {
      "image/png": "[encoded data removed]",
      "text/plain": [
       "<Figure size 432x288 with 1 Axes>"
      ]
     },
     "metadata": {
      "needs_background": "light"
     },
     "output_type": "display_data"
    }
   ],
   "source": [
    "xtrain, xtest, ytrain, ytest = train_test_split(x_data, y_data, test_size=0.2, random_state=0)\n",
    "\n",
    "lgbm = lgb.LGBMRegressor(random_state=s, seed=s,silent=True)\n",
    "scores_lgbm = cross_val_score(lgbm, x_data, y_data, cv=5, n_jobs=-1, scoring = \"r2\")\n",
    "scores_lgbm\n",
    "\n",
    "fitted_model = lgbm.fit(xtrain, ytrain)\n",
    "y_train_pred= fitted_model.predict(xtrain)\n",
    "y_test_pred  = fitted_model.predict(xtest)\n",
    "print('Test_R2 : ',r2_score(ytest,np.where(y_test_pred < 0, 0, y_test_pred)))   \n",
    "\n",
    "plt.plot([0,_max],[0,_max],color='gray',linestyle='--')\n",
    "plt.scatter(ytrain,y_train_pred, alpha=0.4,color='red')\n",
    "plt.axis([0,_max, 0,_max])\n",
    "plt.grid(True,alpha=0.5, linestyle='--')\n",
    "plt.xlabel(\"Original\")\n",
    "plt.ylabel(\"train_results\")\n",
    "plt.show()\n",
    "\n",
    "plt.plot([0,_max],[0,_max],color='gray',linestyle='--')\n",
    "plt.scatter(y_test_pred,ytest, alpha=0.4,color='red')\n",
    "plt.axis([0,_max, 0,_max])\n",
    "plt.grid(True,alpha=0.5, linestyle='--')\n",
    "plt.xlabel(\"Actual\")\n",
    "plt.ylabel(\"Predicted\")\n",
    "plt.show()"
   ]
  }
 ],
 "metadata": {
  "kernelspec": {
   "display_name": "py37",
   "language": "python",
   "name": "py37"
  },
  "language_info": {
   "codemirror_mode": {
    "name": "ipython",
    "version": 3
   },
   "file_extension": ".py",
   "mimetype": "text/x-python",
   "name": "python",
   "nbconvert_exporter": "python",
   "pygments_lexer": "ipython3",
   "version": "3.7.11"
  }
 },
 "nbformat": 4,
 "nbformat_minor": 5
}
