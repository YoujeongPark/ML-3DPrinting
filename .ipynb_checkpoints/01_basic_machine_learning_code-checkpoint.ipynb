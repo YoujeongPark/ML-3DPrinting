{
 "cells": [
  {
   "cell_type": "code",
   "execution_count": 62,
   "metadata": {},
   "outputs": [
    {
     "name": "stdout",
     "output_type": "stream",
     "text": [
      "python 3.6.10\n",
      "pandas 1.0.5\n",
      "numpy 1.19.0\n"
     ]
    }
   ],
   "source": [
    "from platform import python_version\n",
    "import pandas as pd\n",
    "import numpy as np \n",
    "import datetime\n",
    "from sklearn.model_selection import train_test_split\n",
    "from sklearn.preprocessing import StandardScaler\n",
    "from sklearn.linear_model import LinearRegression\n",
    "from sklearn.model_selection import cross_val_score\n",
    "from sklearn.metrics import mean_squared_error\n",
    "from sklearn.metrics import make_scorer, mean_squared_error\n",
    "from sklearn.multioutput import MultiOutputRegressor\n",
    "import lightgbm as lgb\n",
    "import xgboost as xgb\n",
    "\n",
    "print(f'python {python_version()}')\n",
    "print(f'pandas {pd.__version__}')\n",
    "print(f'numpy {np.__version__}')"
   ]
  },
  {
   "cell_type": "code",
   "execution_count": 8,
   "metadata": {},
   "outputs": [],
   "source": [
    "data = pd.read_csv('../input/MoltenPool_Datasheet_v1.1_csv.csv')"
   ]
  },
  {
   "cell_type": "code",
   "execution_count": 9,
   "metadata": {},
   "outputs": [
    {
     "data": {
      "text/html": [
       "<div>\n",
       "<style scoped>\n",
       "    .dataframe tbody tr th:only-of-type {\n",
       "        vertical-align: middle;\n",
       "    }\n",
       "\n",
       "    .dataframe tbody tr th {\n",
       "        vertical-align: top;\n",
       "    }\n",
       "\n",
       "    .dataframe thead th {\n",
       "        text-align: right;\n",
       "    }\n",
       "</style>\n",
       "<table border=\"1\" class=\"dataframe\">\n",
       "  <thead>\n",
       "    <tr style=\"text-align: right;\">\n",
       "      <th></th>\n",
       "      <th>Power(W)</th>\n",
       "      <th>Speed</th>\n",
       "      <th>Max1</th>\n",
       "      <th>Max2</th>\n",
       "      <th>Max3</th>\n",
       "      <th>Max4</th>\n",
       "      <th>Max5</th>\n",
       "      <th>Min1</th>\n",
       "      <th>Min2</th>\n",
       "      <th>Min3</th>\n",
       "      <th>Min4</th>\n",
       "      <th>Min5</th>\n",
       "      <th>Max Avg</th>\n",
       "      <th>Min Avg</th>\n",
       "      <th>Avg</th>\n",
       "      <th>Gap</th>\n",
       "      <th>Stabilty</th>\n",
       "      <th>Spattering</th>\n",
       "      <th>Keyhole induced pore</th>\n",
       "    </tr>\n",
       "  </thead>\n",
       "  <tbody>\n",
       "    <tr>\n",
       "      <th>0</th>\n",
       "      <td>110</td>\n",
       "      <td>2200</td>\n",
       "      <td>30.01</td>\n",
       "      <td>30.00</td>\n",
       "      <td>30.08</td>\n",
       "      <td>29.42</td>\n",
       "      <td>30.77</td>\n",
       "      <td>17.15</td>\n",
       "      <td>17.86</td>\n",
       "      <td>16.43</td>\n",
       "      <td>15.37</td>\n",
       "      <td>16.79</td>\n",
       "      <td>30.06</td>\n",
       "      <td>16.72</td>\n",
       "      <td>23.39</td>\n",
       "      <td>13.34</td>\n",
       "      <td>0.2</td>\n",
       "      <td>1.0</td>\n",
       "      <td>1.0</td>\n",
       "    </tr>\n",
       "    <tr>\n",
       "      <th>1</th>\n",
       "      <td>140</td>\n",
       "      <td>2200</td>\n",
       "      <td>40.81</td>\n",
       "      <td>41.93</td>\n",
       "      <td>42.88</td>\n",
       "      <td>41.43</td>\n",
       "      <td>42.90</td>\n",
       "      <td>30.48</td>\n",
       "      <td>31.91</td>\n",
       "      <td>31.43</td>\n",
       "      <td>30.72</td>\n",
       "      <td>30.00</td>\n",
       "      <td>41.99</td>\n",
       "      <td>30.91</td>\n",
       "      <td>36.45</td>\n",
       "      <td>11.08</td>\n",
       "      <td>0.3</td>\n",
       "      <td>0.0</td>\n",
       "      <td>1.0</td>\n",
       "    </tr>\n",
       "    <tr>\n",
       "      <th>2</th>\n",
       "      <td>180</td>\n",
       "      <td>2200</td>\n",
       "      <td>46.80</td>\n",
       "      <td>47.68</td>\n",
       "      <td>48.21</td>\n",
       "      <td>46.97</td>\n",
       "      <td>47.15</td>\n",
       "      <td>32.98</td>\n",
       "      <td>30.71</td>\n",
       "      <td>33.58</td>\n",
       "      <td>30.71</td>\n",
       "      <td>30.92</td>\n",
       "      <td>47.36</td>\n",
       "      <td>31.78</td>\n",
       "      <td>39.57</td>\n",
       "      <td>15.58</td>\n",
       "      <td>0.3</td>\n",
       "      <td>0.5</td>\n",
       "      <td>1.0</td>\n",
       "    </tr>\n",
       "    <tr>\n",
       "      <th>3</th>\n",
       "      <td>210</td>\n",
       "      <td>2200</td>\n",
       "      <td>49.33</td>\n",
       "      <td>50.37</td>\n",
       "      <td>51.08</td>\n",
       "      <td>49.67</td>\n",
       "      <td>50.73</td>\n",
       "      <td>44.59</td>\n",
       "      <td>44.08</td>\n",
       "      <td>44.56</td>\n",
       "      <td>44.84</td>\n",
       "      <td>44.79</td>\n",
       "      <td>50.24</td>\n",
       "      <td>44.57</td>\n",
       "      <td>47.40</td>\n",
       "      <td>5.66</td>\n",
       "      <td>0.4</td>\n",
       "      <td>1.0</td>\n",
       "      <td>1.0</td>\n",
       "    </tr>\n",
       "    <tr>\n",
       "      <th>4</th>\n",
       "      <td>250</td>\n",
       "      <td>2200</td>\n",
       "      <td>56.43</td>\n",
       "      <td>56.32</td>\n",
       "      <td>56.10</td>\n",
       "      <td>56.80</td>\n",
       "      <td>56.11</td>\n",
       "      <td>48.23</td>\n",
       "      <td>46.80</td>\n",
       "      <td>48.21</td>\n",
       "      <td>47.52</td>\n",
       "      <td>47.87</td>\n",
       "      <td>56.35</td>\n",
       "      <td>47.73</td>\n",
       "      <td>52.04</td>\n",
       "      <td>8.63</td>\n",
       "      <td>0.3</td>\n",
       "      <td>0.5</td>\n",
       "      <td>1.0</td>\n",
       "    </tr>\n",
       "  </tbody>\n",
       "</table>\n",
       "</div>"
      ],
      "text/plain": [
       "   Power(W)  Speed   Max1   Max2   Max3   Max4   Max5   Min1   Min2   Min3  \\\n",
       "0       110   2200  30.01  30.00  30.08  29.42  30.77  17.15  17.86  16.43   \n",
       "1       140   2200  40.81  41.93  42.88  41.43  42.90  30.48  31.91  31.43   \n",
       "2       180   2200  46.80  47.68  48.21  46.97  47.15  32.98  30.71  33.58   \n",
       "3       210   2200  49.33  50.37  51.08  49.67  50.73  44.59  44.08  44.56   \n",
       "4       250   2200  56.43  56.32  56.10  56.80  56.11  48.23  46.80  48.21   \n",
       "\n",
       "    Min4   Min5  Max Avg  Min Avg    Avg    Gap  Stabilty  Spattering  \\\n",
       "0  15.37  16.79    30.06    16.72  23.39  13.34       0.2         1.0   \n",
       "1  30.72  30.00    41.99    30.91  36.45  11.08       0.3         0.0   \n",
       "2  30.71  30.92    47.36    31.78  39.57  15.58       0.3         0.5   \n",
       "3  44.84  44.79    50.24    44.57  47.40   5.66       0.4         1.0   \n",
       "4  47.52  47.87    56.35    47.73  52.04   8.63       0.3         0.5   \n",
       "\n",
       "   Keyhole induced pore  \n",
       "0                   1.0  \n",
       "1                   1.0  \n",
       "2                   1.0  \n",
       "3                   1.0  \n",
       "4                   1.0  "
      ]
     },
     "execution_count": 9,
     "metadata": {},
     "output_type": "execute_result"
    }
   ],
   "source": [
    "data.head(5)"
   ]
  },
  {
   "cell_type": "code",
   "execution_count": 12,
   "metadata": {},
   "outputs": [
    {
     "data": {
      "text/plain": [
       "['Power(W)',\n",
       " 'Speed',\n",
       " 'Max1',\n",
       " 'Max2',\n",
       " 'Max3',\n",
       " 'Max4',\n",
       " 'Max5',\n",
       " 'Min1',\n",
       " 'Min2',\n",
       " 'Min3',\n",
       " 'Min4',\n",
       " 'Min5',\n",
       " 'Max Avg',\n",
       " 'Min Avg',\n",
       " 'Avg',\n",
       " 'Gap',\n",
       " 'Stabilty',\n",
       " 'Spattering',\n",
       " 'Keyhole induced pore']"
      ]
     },
     "execution_count": 12,
     "metadata": {},
     "output_type": "execute_result"
    }
   ],
   "source": [
    "indexName = data.columns.tolist()\n",
    "indexName"
   ]
  },
  {
   "cell_type": "code",
   "execution_count": 15,
   "metadata": {},
   "outputs": [],
   "source": [
    "eraseName = ['Max1','Max2','Max3','Max4','Max5','Min1','Min2','Min3','Min4','Min5']"
   ]
  },
  {
   "cell_type": "code",
   "execution_count": 27,
   "metadata": {},
   "outputs": [],
   "source": [
    "data = data.drop(eraseName,axis=1)"
   ]
  },
  {
   "cell_type": "markdown",
   "metadata": {},
   "source": [
    "## Data Analysis "
   ]
  },
  {
   "cell_type": "code",
   "execution_count": 35,
   "metadata": {},
   "outputs": [],
   "source": [
    "copyData = data.copy()\n",
    "x_data_list = ['Power(W)','Speed']\n",
    "dummy_erase_list = ['Keyhole induced pore']"
   ]
  },
  {
   "cell_type": "code",
   "execution_count": 45,
   "metadata": {},
   "outputs": [
    {
     "ename": "ValueError",
     "evalue": "Need to specify at least one of 'labels', 'index' or 'columns'",
     "output_type": "error",
     "traceback": [
      "\u001b[1;31m---------------------------------------------------------------------------\u001b[0m",
      "\u001b[1;31mValueError\u001b[0m                                Traceback (most recent call last)",
      "\u001b[1;32m<ipython-input-45-a8ecf059f4c3>\u001b[0m in \u001b[0;36m<module>\u001b[1;34m\u001b[0m\n\u001b[0;32m      1\u001b[0m \u001b[0mx_data\u001b[0m \u001b[1;33m=\u001b[0m \u001b[0mcopyData\u001b[0m\u001b[1;33m[\u001b[0m\u001b[0mx_data_list\u001b[0m\u001b[1;33m]\u001b[0m\u001b[1;33m\u001b[0m\u001b[1;33m\u001b[0m\u001b[0m\n\u001b[1;32m----> 2\u001b[1;33m \u001b[0my_data\u001b[0m \u001b[1;33m=\u001b[0m \u001b[0mcopyData\u001b[0m\u001b[1;33m.\u001b[0m\u001b[0mdrop\u001b[0m\u001b[1;33m(\u001b[0m\u001b[0merase_list\u001b[0m\u001b[1;33m,\u001b[0m \u001b[0maxis\u001b[0m\u001b[1;33m=\u001b[0m\u001b[1;36m1\u001b[0m\u001b[1;33m)\u001b[0m\u001b[1;33m\u001b[0m\u001b[1;33m\u001b[0m\u001b[0m\n\u001b[0m",
      "\u001b[1;32mD:\\99_file\\01_Anaconda\\envs\\mlpy36\\lib\\site-packages\\pandas\\core\\frame.py\u001b[0m in \u001b[0;36mdrop\u001b[1;34m(self, labels, axis, index, columns, level, inplace, errors)\u001b[0m\n\u001b[0;32m   3995\u001b[0m             \u001b[0mlevel\u001b[0m\u001b[1;33m=\u001b[0m\u001b[0mlevel\u001b[0m\u001b[1;33m,\u001b[0m\u001b[1;33m\u001b[0m\u001b[1;33m\u001b[0m\u001b[0m\n\u001b[0;32m   3996\u001b[0m             \u001b[0minplace\u001b[0m\u001b[1;33m=\u001b[0m\u001b[0minplace\u001b[0m\u001b[1;33m,\u001b[0m\u001b[1;33m\u001b[0m\u001b[1;33m\u001b[0m\u001b[0m\n\u001b[1;32m-> 3997\u001b[1;33m             \u001b[0merrors\u001b[0m\u001b[1;33m=\u001b[0m\u001b[0merrors\u001b[0m\u001b[1;33m,\u001b[0m\u001b[1;33m\u001b[0m\u001b[1;33m\u001b[0m\u001b[0m\n\u001b[0m\u001b[0;32m   3998\u001b[0m         )\n\u001b[0;32m   3999\u001b[0m \u001b[1;33m\u001b[0m\u001b[0m\n",
      "\u001b[1;32mD:\\99_file\\01_Anaconda\\envs\\mlpy36\\lib\\site-packages\\pandas\\core\\generic.py\u001b[0m in \u001b[0;36mdrop\u001b[1;34m(self, labels, axis, index, columns, level, inplace, errors)\u001b[0m\n\u001b[0;32m   3927\u001b[0m         \u001b[1;32melse\u001b[0m\u001b[1;33m:\u001b[0m\u001b[1;33m\u001b[0m\u001b[1;33m\u001b[0m\u001b[0m\n\u001b[0;32m   3928\u001b[0m             raise ValueError(\n\u001b[1;32m-> 3929\u001b[1;33m                 \u001b[1;34m\"Need to specify at least one of 'labels', 'index' or 'columns'\"\u001b[0m\u001b[1;33m\u001b[0m\u001b[1;33m\u001b[0m\u001b[0m\n\u001b[0m\u001b[0;32m   3930\u001b[0m             )\n\u001b[0;32m   3931\u001b[0m \u001b[1;33m\u001b[0m\u001b[0m\n",
      "\u001b[1;31mValueError\u001b[0m: Need to specify at least one of 'labels', 'index' or 'columns'"
     ]
    }
   ],
   "source": [
    "x_data = copyData[x_data_list]\n",
    "y_data = copyData.drop(erase_list, axis=1)"
   ]
  },
  {
   "cell_type": "code",
   "execution_count": 46,
   "metadata": {},
   "outputs": [
    {
     "data": {
      "text/html": [
       "<div>\n",
       "<style scoped>\n",
       "    .dataframe tbody tr th:only-of-type {\n",
       "        vertical-align: middle;\n",
       "    }\n",
       "\n",
       "    .dataframe tbody tr th {\n",
       "        vertical-align: top;\n",
       "    }\n",
       "\n",
       "    .dataframe thead th {\n",
       "        text-align: right;\n",
       "    }\n",
       "</style>\n",
       "<table border=\"1\" class=\"dataframe\">\n",
       "  <thead>\n",
       "    <tr style=\"text-align: right;\">\n",
       "      <th></th>\n",
       "      <th>Max Avg</th>\n",
       "      <th>Min Avg</th>\n",
       "      <th>Avg</th>\n",
       "      <th>Gap</th>\n",
       "      <th>Stabilty</th>\n",
       "      <th>Spattering</th>\n",
       "      <th>Keyhole induced pore</th>\n",
       "    </tr>\n",
       "  </thead>\n",
       "  <tbody>\n",
       "    <tr>\n",
       "      <th>0</th>\n",
       "      <td>30.06</td>\n",
       "      <td>16.72</td>\n",
       "      <td>23.39</td>\n",
       "      <td>13.34</td>\n",
       "      <td>0.2</td>\n",
       "      <td>1.0</td>\n",
       "      <td>1.0</td>\n",
       "    </tr>\n",
       "    <tr>\n",
       "      <th>1</th>\n",
       "      <td>41.99</td>\n",
       "      <td>30.91</td>\n",
       "      <td>36.45</td>\n",
       "      <td>11.08</td>\n",
       "      <td>0.3</td>\n",
       "      <td>0.0</td>\n",
       "      <td>1.0</td>\n",
       "    </tr>\n",
       "    <tr>\n",
       "      <th>2</th>\n",
       "      <td>47.36</td>\n",
       "      <td>31.78</td>\n",
       "      <td>39.57</td>\n",
       "      <td>15.58</td>\n",
       "      <td>0.3</td>\n",
       "      <td>0.5</td>\n",
       "      <td>1.0</td>\n",
       "    </tr>\n",
       "    <tr>\n",
       "      <th>3</th>\n",
       "      <td>50.24</td>\n",
       "      <td>44.57</td>\n",
       "      <td>47.40</td>\n",
       "      <td>5.66</td>\n",
       "      <td>0.4</td>\n",
       "      <td>1.0</td>\n",
       "      <td>1.0</td>\n",
       "    </tr>\n",
       "    <tr>\n",
       "      <th>4</th>\n",
       "      <td>56.35</td>\n",
       "      <td>47.73</td>\n",
       "      <td>52.04</td>\n",
       "      <td>8.63</td>\n",
       "      <td>0.3</td>\n",
       "      <td>0.5</td>\n",
       "      <td>1.0</td>\n",
       "    </tr>\n",
       "    <tr>\n",
       "      <th>...</th>\n",
       "      <td>...</td>\n",
       "      <td>...</td>\n",
       "      <td>...</td>\n",
       "      <td>...</td>\n",
       "      <td>...</td>\n",
       "      <td>...</td>\n",
       "      <td>...</td>\n",
       "    </tr>\n",
       "    <tr>\n",
       "      <th>59</th>\n",
       "      <td>82.86</td>\n",
       "      <td>77.24</td>\n",
       "      <td>80.05</td>\n",
       "      <td>5.62</td>\n",
       "      <td>0.8</td>\n",
       "      <td>0.5</td>\n",
       "      <td>0.1</td>\n",
       "    </tr>\n",
       "    <tr>\n",
       "      <th>60</th>\n",
       "      <td>96.52</td>\n",
       "      <td>85.59</td>\n",
       "      <td>91.06</td>\n",
       "      <td>10.94</td>\n",
       "      <td>0.9</td>\n",
       "      <td>0.5</td>\n",
       "      <td>0.4</td>\n",
       "    </tr>\n",
       "    <tr>\n",
       "      <th>61</th>\n",
       "      <td>138.72</td>\n",
       "      <td>120.87</td>\n",
       "      <td>129.80</td>\n",
       "      <td>17.85</td>\n",
       "      <td>0.9</td>\n",
       "      <td>0.5</td>\n",
       "      <td>0.2</td>\n",
       "    </tr>\n",
       "    <tr>\n",
       "      <th>62</th>\n",
       "      <td>148.40</td>\n",
       "      <td>127.52</td>\n",
       "      <td>137.96</td>\n",
       "      <td>20.87</td>\n",
       "      <td>1.0</td>\n",
       "      <td>0.5</td>\n",
       "      <td>0.3</td>\n",
       "    </tr>\n",
       "    <tr>\n",
       "      <th>63</th>\n",
       "      <td>176.83</td>\n",
       "      <td>154.85</td>\n",
       "      <td>165.84</td>\n",
       "      <td>21.98</td>\n",
       "      <td>1.0</td>\n",
       "      <td>1.0</td>\n",
       "      <td>0.7</td>\n",
       "    </tr>\n",
       "  </tbody>\n",
       "</table>\n",
       "<p>64 rows × 7 columns</p>\n",
       "</div>"
      ],
      "text/plain": [
       "    Max Avg  Min Avg     Avg    Gap  Stabilty  Spattering  \\\n",
       "0     30.06    16.72   23.39  13.34       0.2         1.0   \n",
       "1     41.99    30.91   36.45  11.08       0.3         0.0   \n",
       "2     47.36    31.78   39.57  15.58       0.3         0.5   \n",
       "3     50.24    44.57   47.40   5.66       0.4         1.0   \n",
       "4     56.35    47.73   52.04   8.63       0.3         0.5   \n",
       "..      ...      ...     ...    ...       ...         ...   \n",
       "59    82.86    77.24   80.05   5.62       0.8         0.5   \n",
       "60    96.52    85.59   91.06  10.94       0.9         0.5   \n",
       "61   138.72   120.87  129.80  17.85       0.9         0.5   \n",
       "62   148.40   127.52  137.96  20.87       1.0         0.5   \n",
       "63   176.83   154.85  165.84  21.98       1.0         1.0   \n",
       "\n",
       "    Keyhole induced pore  \n",
       "0                    1.0  \n",
       "1                    1.0  \n",
       "2                    1.0  \n",
       "3                    1.0  \n",
       "4                    1.0  \n",
       "..                   ...  \n",
       "59                   0.1  \n",
       "60                   0.4  \n",
       "61                   0.2  \n",
       "62                   0.3  \n",
       "63                   0.7  \n",
       "\n",
       "[64 rows x 7 columns]"
      ]
     },
     "execution_count": 46,
     "metadata": {},
     "output_type": "execute_result"
    }
   ],
   "source": [
    "y_data"
   ]
  },
  {
   "cell_type": "code",
   "execution_count": 56,
   "metadata": {},
   "outputs": [],
   "source": [
    "def custom_metric(y_true, y_pred,**kwargs):\n",
    "    return np.abs(np.array(y_true)-np.array(y_pred)).mean()"
   ]
  },
  {
   "cell_type": "code",
   "execution_count": 57,
   "metadata": {},
   "outputs": [],
   "source": [
    "my_scorer = make_scorer(custom_metric, greater_is_better=True, n_jobs=-1)"
   ]
  },
  {
   "cell_type": "markdown",
   "metadata": {},
   "source": [
    "# MultiOutputRegressor - lightgbm "
   ]
  },
  {
   "cell_type": "code",
   "execution_count": 58,
   "metadata": {},
   "outputs": [],
   "source": [
    "from sklearn.multioutput import MultiOutputRegressor\n",
    "import lightgbm as lgb"
   ]
  },
  {
   "cell_type": "code",
   "execution_count": 66,
   "metadata": {},
   "outputs": [
    {
     "name": "stderr",
     "output_type": "stream",
     "text": [
      "[Parallel(n_jobs=1)]: Using backend SequentialBackend with 1 concurrent workers.\n"
     ]
    },
    {
     "name": "stdout",
     "output_type": "stream",
     "text": [
      "[CV]  ................................................................\n",
      "[CV] ................................................. , total=   2.3s\n",
      "[CV]  ................................................................\n"
     ]
    },
    {
     "name": "stderr",
     "output_type": "stream",
     "text": [
      "[Parallel(n_jobs=1)]: Done   1 out of   1 | elapsed:    2.2s remaining:    0.0s\n"
     ]
    },
    {
     "name": "stdout",
     "output_type": "stream",
     "text": [
      "[CV] ................................................. , total=   0.5s\n",
      "[CV]  ................................................................\n",
      "[CV] ................................................. , total=   0.5s\n",
      "[CV]  ................................................................\n",
      "[CV] ................................................. , total=   0.5s\n",
      "[CV]  ................................................................\n",
      "[CV] ................................................. , total=   0.5s\n",
      "[CV]  ................................................................\n",
      "[CV] ................................................. , total=   0.7s\n",
      "[CV]  ................................................................\n",
      "[CV] ................................................. , total=   0.7s\n",
      "[CV]  ................................................................\n",
      "[CV] ................................................. , total=   0.6s\n",
      "[CV]  ................................................................\n",
      "[CV] ................................................. , total=   0.7s\n",
      "[CV]  ................................................................\n",
      "[CV] ................................................. , total=   0.5s\n"
     ]
    },
    {
     "name": "stderr",
     "output_type": "stream",
     "text": [
      "[Parallel(n_jobs=1)]: Done  10 out of  10 | elapsed:    7.5s finished\n"
     ]
    }
   ],
   "source": [
    "model = MultiOutputRegressor(lgb.LGBMRegressor(random_state=42), n_jobs=-1)\n",
    "model.fit(x_data, y_data)\n",
    "#scores_lgbm = cross_val_score(model, x_data, y_data, cv=10,  verbose=2,scoring=my_scorer)\n",
    "scores_lgbm = cross_val_score(model, x_data, y_data, cv=10,  verbose=2,scoring='r2')"
   ]
  },
  {
   "cell_type": "code",
   "execution_count": 68,
   "metadata": {},
   "outputs": [
    {
     "name": "stdout",
     "output_type": "stream",
     "text": [
      "전체 score = [-5.02704063 -5.53665526  0.28475937  0.19060069  0.1386485   0.23815307\n",
      " -1.73136863  0.54459456 -0.65541093 -1.00755204]\n",
      "평균 낸 score = -1.256127129017724\n"
     ]
    }
   ],
   "source": [
    "print(\"전체 score = {}\".format(scores_lgbm))\n",
    "print(\"평균 낸 score = {}\".format(scores_lgbm.mean()))"
   ]
  },
  {
   "cell_type": "markdown",
   "metadata": {},
   "source": [
    "# MultiOutputRegressor - xgboost"
   ]
  },
  {
   "cell_type": "code",
   "execution_count": 69,
   "metadata": {},
   "outputs": [
    {
     "name": "stderr",
     "output_type": "stream",
     "text": [
      "[Parallel(n_jobs=1)]: Using backend SequentialBackend with 1 concurrent workers.\n",
      "[Parallel(n_jobs=1)]: Done   1 out of   1 | elapsed:    0.1s remaining:    0.0s\n"
     ]
    },
    {
     "name": "stdout",
     "output_type": "stream",
     "text": [
      "[CV]  ................................................................\n",
      "[CV] ................................................. , total=   0.2s\n",
      "[CV]  ................................................................\n",
      "[CV] ................................................. , total=   1.0s\n",
      "[CV]  ................................................................\n",
      "[CV] ................................................. , total=   2.4s\n",
      "[CV]  ................................................................\n",
      "[CV] ................................................. , total=   1.6s\n",
      "[CV]  ................................................................\n",
      "[CV] ................................................. , total=   0.9s\n",
      "[CV]  ................................................................\n",
      "[CV] ................................................. , total=   0.1s\n",
      "[CV]  ................................................................\n",
      "[CV] ................................................. , total=   0.2s\n",
      "[CV]  ................................................................\n",
      "[CV] ................................................. , total=   1.9s\n",
      "[CV]  ................................................................\n",
      "[CV] ................................................. , total=   3.8s\n",
      "[CV]  ................................................................\n",
      "[CV] ................................................. , total=   1.9s\n"
     ]
    },
    {
     "name": "stderr",
     "output_type": "stream",
     "text": [
      "[Parallel(n_jobs=1)]: Done  10 out of  10 | elapsed:   13.8s finished\n"
     ]
    }
   ],
   "source": [
    "model = MultiOutputRegressor(xgb.XGBRegressor(random_state=42))\n",
    "model.fit(x_data, y_data)\n",
    "#scores_xgb = cross_val_score(model, x_data, y_data, cv=10,  verbose=2, scoring=my_scorer)\n",
    "scores_xgb = cross_val_score(model, x_data, y_data, cv=10,  verbose=2,  scoring='r2')"
   ]
  },
  {
   "cell_type": "code",
   "execution_count": 70,
   "metadata": {},
   "outputs": [
    {
     "name": "stdout",
     "output_type": "stream",
     "text": [
      "전체 score = [-0.52930133 -0.74492556  0.4337263   0.61904087 -0.15943214 -0.61197888\n",
      " -1.82875859  0.39084774 -2.13178148 -0.02163567]\n",
      "평균 낸 score = -0.4584198744480501\n"
     ]
    }
   ],
   "source": [
    "print(\"전체 score = {}\".format(scores_xgb))\n",
    "print(\"평균 낸 score = {}\".format(scores_xgb.mean()))"
   ]
  }
 ],
 "metadata": {
  "kernelspec": {
   "display_name": "mlpy36",
   "language": "python",
   "name": "mlpy36"
  },
  "language_info": {
   "codemirror_mode": {
    "name": "ipython",
    "version": 3
   },
   "file_extension": ".py",
   "mimetype": "text/x-python",
   "name": "python",
   "nbconvert_exporter": "python",
   "pygments_lexer": "ipython3",
   "version": "3.6.10"
  }
 },
 "nbformat": 4,
 "nbformat_minor": 4
}
