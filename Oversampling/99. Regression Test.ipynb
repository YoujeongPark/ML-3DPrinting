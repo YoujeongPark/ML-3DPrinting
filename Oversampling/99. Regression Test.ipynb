{
 "cells": [
  {
   "cell_type": "code",
   "execution_count": 1,
   "id": "953ea0f7",
   "metadata": {},
   "outputs": [],
   "source": [
    "import numpy as np # linear algebra\n",
    "import pandas as pd # data processing, CSV file I/O (e.g. pd.read_csv)\n",
    "from sklearn.linear_model import LinearRegression\n",
    "from sklearn.preprocessing import PolynomialFeatures\n",
    "import matplotlib.pyplot as plt\n",
    "from sklearn.metrics import mean_squared_error\n",
    "import numpy as np\n",
    "from sklearn.linear_model import LinearRegression\n",
    "from sklearn.preprocessing import FunctionTransformer\n",
    "import matplotlib.pyplot as plt"
   ]
  },
  {
   "cell_type": "markdown",
   "id": "c305f304",
   "metadata": {},
   "source": [
    "# 예제"
   ]
  },
  {
   "cell_type": "code",
   "execution_count": 2,
   "id": "982ce956",
   "metadata": {},
   "outputs": [
    {
     "data": {
      "text/html": [
       "<div>\n",
       "<style scoped>\n",
       "    .dataframe tbody tr th:only-of-type {\n",
       "        vertical-align: middle;\n",
       "    }\n",
       "\n",
       "    .dataframe tbody tr th {\n",
       "        vertical-align: top;\n",
       "    }\n",
       "\n",
       "    .dataframe thead th {\n",
       "        text-align: right;\n",
       "    }\n",
       "</style>\n",
       "<table border=\"1\" class=\"dataframe\">\n",
       "  <thead>\n",
       "    <tr style=\"text-align: right;\">\n",
       "      <th></th>\n",
       "      <th>Unnamed: 0</th>\n",
       "      <th>Laser power</th>\n",
       "      <th>Scan speed</th>\n",
       "      <th>Line spacing</th>\n",
       "      <th>Layer thickness</th>\n",
       "      <th>STMPS-Width</th>\n",
       "    </tr>\n",
       "  </thead>\n",
       "  <tbody>\n",
       "    <tr>\n",
       "      <th>0</th>\n",
       "      <td>0</td>\n",
       "      <td>250</td>\n",
       "      <td>800</td>\n",
       "      <td>0.091</td>\n",
       "      <td>0.04</td>\n",
       "      <td>145.298656</td>\n",
       "    </tr>\n",
       "    <tr>\n",
       "      <th>1</th>\n",
       "      <td>1</td>\n",
       "      <td>250</td>\n",
       "      <td>400</td>\n",
       "      <td>0.111</td>\n",
       "      <td>0.02</td>\n",
       "      <td>169.858222</td>\n",
       "    </tr>\n",
       "    <tr>\n",
       "      <th>2</th>\n",
       "      <td>2</td>\n",
       "      <td>450</td>\n",
       "      <td>1200</td>\n",
       "      <td>0.104</td>\n",
       "      <td>0.04</td>\n",
       "      <td>152.726222</td>\n",
       "    </tr>\n",
       "    <tr>\n",
       "      <th>3</th>\n",
       "      <td>3</td>\n",
       "      <td>250</td>\n",
       "      <td>600</td>\n",
       "      <td>0.123</td>\n",
       "      <td>0.06</td>\n",
       "      <td>143.310222</td>\n",
       "    </tr>\n",
       "    <tr>\n",
       "      <th>4</th>\n",
       "      <td>4</td>\n",
       "      <td>400</td>\n",
       "      <td>800</td>\n",
       "      <td>0.162</td>\n",
       "      <td>0.04</td>\n",
       "      <td>198.999222</td>\n",
       "    </tr>\n",
       "    <tr>\n",
       "      <th>5</th>\n",
       "      <td>5</td>\n",
       "      <td>500</td>\n",
       "      <td>600</td>\n",
       "      <td>0.152</td>\n",
       "      <td>0.08</td>\n",
       "      <td>159.401278</td>\n",
       "    </tr>\n",
       "    <tr>\n",
       "      <th>6</th>\n",
       "      <td>6</td>\n",
       "      <td>250</td>\n",
       "      <td>400</td>\n",
       "      <td>0.110</td>\n",
       "      <td>0.06</td>\n",
       "      <td>157.254778</td>\n",
       "    </tr>\n",
       "    <tr>\n",
       "      <th>7</th>\n",
       "      <td>7</td>\n",
       "      <td>300</td>\n",
       "      <td>1000</td>\n",
       "      <td>0.078</td>\n",
       "      <td>0.04</td>\n",
       "      <td>143.319833</td>\n",
       "    </tr>\n",
       "    <tr>\n",
       "      <th>8</th>\n",
       "      <td>8</td>\n",
       "      <td>250</td>\n",
       "      <td>600</td>\n",
       "      <td>0.050</td>\n",
       "      <td>0.06</td>\n",
       "      <td>143.310222</td>\n",
       "    </tr>\n",
       "    <tr>\n",
       "      <th>9</th>\n",
       "      <td>9</td>\n",
       "      <td>400</td>\n",
       "      <td>400</td>\n",
       "      <td>0.146</td>\n",
       "      <td>0.04</td>\n",
       "      <td>195.090555</td>\n",
       "    </tr>\n",
       "  </tbody>\n",
       "</table>\n",
       "</div>"
      ],
      "text/plain": [
       "   Unnamed: 0  Laser power  Scan speed  Line spacing  Layer thickness  \\\n",
       "0           0          250         800         0.091             0.04   \n",
       "1           1          250         400         0.111             0.02   \n",
       "2           2          450        1200         0.104             0.04   \n",
       "3           3          250         600         0.123             0.06   \n",
       "4           4          400         800         0.162             0.04   \n",
       "5           5          500         600         0.152             0.08   \n",
       "6           6          250         400         0.110             0.06   \n",
       "7           7          300        1000         0.078             0.04   \n",
       "8           8          250         600         0.050             0.06   \n",
       "9           9          400         400         0.146             0.04   \n",
       "\n",
       "   STMPS-Width  \n",
       "0   145.298656  \n",
       "1   169.858222  \n",
       "2   152.726222  \n",
       "3   143.310222  \n",
       "4   198.999222  \n",
       "5   159.401278  \n",
       "6   157.254778  \n",
       "7   143.319833  \n",
       "8   143.310222  \n",
       "9   195.090555  "
      ]
     },
     "execution_count": 2,
     "metadata": {},
     "output_type": "execute_result"
    }
   ],
   "source": [
    "df = pd.read_csv('./결과-Densification/SmoteR.csv')\n",
    "df.head(10)"
   ]
  },
  {
   "cell_type": "code",
   "execution_count": 3,
   "id": "64787b5c",
   "metadata": {},
   "outputs": [],
   "source": [
    "x1_data = df[['Laser power']] \n",
    "x2_data = df[['Scan speed']] \n",
    "y = df[['STMPS-Width']] "
   ]
  },
  {
   "cell_type": "code",
   "execution_count": 4,
   "id": "440e0772",
   "metadata": {},
   "outputs": [],
   "source": [
    "poly_features = PolynomialFeatures(degree=2, include_bias=False)\n",
    "X_poly = poly_features.fit_transform(np.c_[x1_data, x2_data])"
   ]
  },
  {
   "cell_type": "code",
   "execution_count": 5,
   "id": "ed186bf3",
   "metadata": {},
   "outputs": [
    {
     "data": {
      "text/plain": [
       "LinearRegression()"
      ]
     },
     "execution_count": 5,
     "metadata": {},
     "output_type": "execute_result"
    }
   ],
   "source": [
    "# 다항 회귀 모델 학습\n",
    "lin_reg = LinearRegression()\n",
    "lin_reg.fit(X_poly, y)"
   ]
  },
  {
   "cell_type": "code",
   "execution_count": 6,
   "id": "20c82cfb",
   "metadata": {},
   "outputs": [
    {
     "name": "stdout",
     "output_type": "stream",
     "text": [
      "회귀 계수 (계수, 편향): [[ 1.79602975e-01 -1.01772385e-01  1.72236026e-04 -2.31554454e-04\n",
      "   6.55315846e-05]] [163.09584089]\n"
     ]
    }
   ],
   "source": [
    "print(\"회귀 계수 (계수, 편향):\", lin_reg.coef_, lin_reg.intercept_)\n",
    "# 1, x1, x2, x1^2, x1*x2, x2^2\n"
   ]
  },
  {
   "cell_type": "code",
   "execution_count": 7,
   "id": "d47c7b7b",
   "metadata": {},
   "outputs": [
    {
     "name": "stdout",
     "output_type": "stream",
     "text": [
      "평균 제곱 오차 (MSE): 602.0433218943865\n",
      "회귀 계수 (계수, 편향): [[ 1.79602975e-01 -1.01772385e-01  1.72236026e-04 -2.31554454e-04\n",
      "   6.55315846e-05]] [163.09584089]\n"
     ]
    }
   ],
   "source": [
    "# 예측값 계산\n",
    "y_pred = lin_reg.predict(X_poly)\n",
    "\n",
    "# MSE 계산\n",
    "mse = mean_squared_error(y, y_pred)\n",
    "print(\"평균 제곱 오차 (MSE):\", mse)\n",
    "\n",
    "# 계수 및 편향 출력\n",
    "print(\"회귀 계수 (계수, 편향):\", lin_reg.coef_, lin_reg.intercept_)"
   ]
  },
  {
   "cell_type": "code",
   "execution_count": null,
   "id": "159f93a5",
   "metadata": {},
   "outputs": [],
   "source": []
  },
  {
   "cell_type": "markdown",
   "id": "1286257d",
   "metadata": {},
   "source": [
    "# FunctionTransformer"
   ]
  },
  {
   "cell_type": "code",
   "execution_count": 15,
   "id": "a6a70058",
   "metadata": {},
   "outputs": [],
   "source": [
    "def exponential_features(X):\n",
    "    return np.column_stack((np.exp(X[:, 0]), np.exp(X[:, 1])))"
   ]
  },
  {
   "cell_type": "code",
   "execution_count": 16,
   "id": "42b473a6",
   "metadata": {},
   "outputs": [
    {
     "name": "stderr",
     "output_type": "stream",
     "text": [
      "C:\\Anaconda\\envs\\py37\\lib\\site-packages\\ipykernel_launcher.py:2: RuntimeWarning: overflow encountered in exp\n",
      "  \n"
     ]
    }
   ],
   "source": [
    "exp_transformer = FunctionTransformer(exponential_features, validate=False)\n",
    "X_exp = exp_transformer.transform(np.column_stack((x1_data, x2_data)))"
   ]
  },
  {
   "cell_type": "code",
   "execution_count": 17,
   "id": "ef32dfd6",
   "metadata": {},
   "outputs": [
    {
     "ename": "ValueError",
     "evalue": "Input contains NaN, infinity or a value too large for dtype('float64').",
     "output_type": "error",
     "traceback": [
      "\u001b[1;31m---------------------------------------------------------------------------\u001b[0m",
      "\u001b[1;31mValueError\u001b[0m                                Traceback (most recent call last)",
      "\u001b[1;32m~\\AppData\\Local\\Temp/ipykernel_1824/850289161.py\u001b[0m in \u001b[0;36m<module>\u001b[1;34m\u001b[0m\n\u001b[0;32m      1\u001b[0m \u001b[0mlin_reg\u001b[0m \u001b[1;33m=\u001b[0m \u001b[0mLinearRegression\u001b[0m\u001b[1;33m(\u001b[0m\u001b[1;33m)\u001b[0m\u001b[1;33m\u001b[0m\u001b[1;33m\u001b[0m\u001b[0m\n\u001b[1;32m----> 2\u001b[1;33m \u001b[0mlin_reg\u001b[0m\u001b[1;33m.\u001b[0m\u001b[0mfit\u001b[0m\u001b[1;33m(\u001b[0m\u001b[0mX_exp\u001b[0m\u001b[1;33m,\u001b[0m \u001b[0my\u001b[0m\u001b[1;33m)\u001b[0m\u001b[1;33m\u001b[0m\u001b[1;33m\u001b[0m\u001b[0m\n\u001b[0m",
      "\u001b[1;32mC:\\Anaconda\\envs\\py37\\lib\\site-packages\\sklearn\\linear_model\\_base.py\u001b[0m in \u001b[0;36mfit\u001b[1;34m(self, X, y, sample_weight)\u001b[0m\n\u001b[0;32m    517\u001b[0m \u001b[1;33m\u001b[0m\u001b[0m\n\u001b[0;32m    518\u001b[0m         X, y = self._validate_data(X, y, accept_sparse=accept_sparse,\n\u001b[1;32m--> 519\u001b[1;33m                                    y_numeric=True, multi_output=True)\n\u001b[0m\u001b[0;32m    520\u001b[0m \u001b[1;33m\u001b[0m\u001b[0m\n\u001b[0;32m    521\u001b[0m         \u001b[1;32mif\u001b[0m \u001b[0msample_weight\u001b[0m \u001b[1;32mis\u001b[0m \u001b[1;32mnot\u001b[0m \u001b[1;32mNone\u001b[0m\u001b[1;33m:\u001b[0m\u001b[1;33m\u001b[0m\u001b[1;33m\u001b[0m\u001b[0m\n",
      "\u001b[1;32mC:\\Anaconda\\envs\\py37\\lib\\site-packages\\sklearn\\base.py\u001b[0m in \u001b[0;36m_validate_data\u001b[1;34m(self, X, y, reset, validate_separately, **check_params)\u001b[0m\n\u001b[0;32m    431\u001b[0m                 \u001b[0my\u001b[0m \u001b[1;33m=\u001b[0m \u001b[0mcheck_array\u001b[0m\u001b[1;33m(\u001b[0m\u001b[0my\u001b[0m\u001b[1;33m,\u001b[0m \u001b[1;33m**\u001b[0m\u001b[0mcheck_y_params\u001b[0m\u001b[1;33m)\u001b[0m\u001b[1;33m\u001b[0m\u001b[1;33m\u001b[0m\u001b[0m\n\u001b[0;32m    432\u001b[0m             \u001b[1;32melse\u001b[0m\u001b[1;33m:\u001b[0m\u001b[1;33m\u001b[0m\u001b[1;33m\u001b[0m\u001b[0m\n\u001b[1;32m--> 433\u001b[1;33m                 \u001b[0mX\u001b[0m\u001b[1;33m,\u001b[0m \u001b[0my\u001b[0m \u001b[1;33m=\u001b[0m \u001b[0mcheck_X_y\u001b[0m\u001b[1;33m(\u001b[0m\u001b[0mX\u001b[0m\u001b[1;33m,\u001b[0m \u001b[0my\u001b[0m\u001b[1;33m,\u001b[0m \u001b[1;33m**\u001b[0m\u001b[0mcheck_params\u001b[0m\u001b[1;33m)\u001b[0m\u001b[1;33m\u001b[0m\u001b[1;33m\u001b[0m\u001b[0m\n\u001b[0m\u001b[0;32m    434\u001b[0m             \u001b[0mout\u001b[0m \u001b[1;33m=\u001b[0m \u001b[0mX\u001b[0m\u001b[1;33m,\u001b[0m \u001b[0my\u001b[0m\u001b[1;33m\u001b[0m\u001b[1;33m\u001b[0m\u001b[0m\n\u001b[0;32m    435\u001b[0m \u001b[1;33m\u001b[0m\u001b[0m\n",
      "\u001b[1;32mC:\\Anaconda\\envs\\py37\\lib\\site-packages\\sklearn\\utils\\validation.py\u001b[0m in \u001b[0;36minner_f\u001b[1;34m(*args, **kwargs)\u001b[0m\n\u001b[0;32m     61\u001b[0m             \u001b[0mextra_args\u001b[0m \u001b[1;33m=\u001b[0m \u001b[0mlen\u001b[0m\u001b[1;33m(\u001b[0m\u001b[0margs\u001b[0m\u001b[1;33m)\u001b[0m \u001b[1;33m-\u001b[0m \u001b[0mlen\u001b[0m\u001b[1;33m(\u001b[0m\u001b[0mall_args\u001b[0m\u001b[1;33m)\u001b[0m\u001b[1;33m\u001b[0m\u001b[1;33m\u001b[0m\u001b[0m\n\u001b[0;32m     62\u001b[0m             \u001b[1;32mif\u001b[0m \u001b[0mextra_args\u001b[0m \u001b[1;33m<=\u001b[0m \u001b[1;36m0\u001b[0m\u001b[1;33m:\u001b[0m\u001b[1;33m\u001b[0m\u001b[1;33m\u001b[0m\u001b[0m\n\u001b[1;32m---> 63\u001b[1;33m                 \u001b[1;32mreturn\u001b[0m \u001b[0mf\u001b[0m\u001b[1;33m(\u001b[0m\u001b[1;33m*\u001b[0m\u001b[0margs\u001b[0m\u001b[1;33m,\u001b[0m \u001b[1;33m**\u001b[0m\u001b[0mkwargs\u001b[0m\u001b[1;33m)\u001b[0m\u001b[1;33m\u001b[0m\u001b[1;33m\u001b[0m\u001b[0m\n\u001b[0m\u001b[0;32m     64\u001b[0m \u001b[1;33m\u001b[0m\u001b[0m\n\u001b[0;32m     65\u001b[0m             \u001b[1;31m# extra_args > 0\u001b[0m\u001b[1;33m\u001b[0m\u001b[1;33m\u001b[0m\u001b[1;33m\u001b[0m\u001b[0m\n",
      "\u001b[1;32mC:\\Anaconda\\envs\\py37\\lib\\site-packages\\sklearn\\utils\\validation.py\u001b[0m in \u001b[0;36mcheck_X_y\u001b[1;34m(X, y, accept_sparse, accept_large_sparse, dtype, order, copy, force_all_finite, ensure_2d, allow_nd, multi_output, ensure_min_samples, ensure_min_features, y_numeric, estimator)\u001b[0m\n\u001b[0;32m    876\u001b[0m                     \u001b[0mensure_min_samples\u001b[0m\u001b[1;33m=\u001b[0m\u001b[0mensure_min_samples\u001b[0m\u001b[1;33m,\u001b[0m\u001b[1;33m\u001b[0m\u001b[1;33m\u001b[0m\u001b[0m\n\u001b[0;32m    877\u001b[0m                     \u001b[0mensure_min_features\u001b[0m\u001b[1;33m=\u001b[0m\u001b[0mensure_min_features\u001b[0m\u001b[1;33m,\u001b[0m\u001b[1;33m\u001b[0m\u001b[1;33m\u001b[0m\u001b[0m\n\u001b[1;32m--> 878\u001b[1;33m                     estimator=estimator)\n\u001b[0m\u001b[0;32m    879\u001b[0m     \u001b[1;32mif\u001b[0m \u001b[0mmulti_output\u001b[0m\u001b[1;33m:\u001b[0m\u001b[1;33m\u001b[0m\u001b[1;33m\u001b[0m\u001b[0m\n\u001b[0;32m    880\u001b[0m         y = check_array(y, accept_sparse='csr', force_all_finite=True,\n",
      "\u001b[1;32mC:\\Anaconda\\envs\\py37\\lib\\site-packages\\sklearn\\utils\\validation.py\u001b[0m in \u001b[0;36minner_f\u001b[1;34m(*args, **kwargs)\u001b[0m\n\u001b[0;32m     61\u001b[0m             \u001b[0mextra_args\u001b[0m \u001b[1;33m=\u001b[0m \u001b[0mlen\u001b[0m\u001b[1;33m(\u001b[0m\u001b[0margs\u001b[0m\u001b[1;33m)\u001b[0m \u001b[1;33m-\u001b[0m \u001b[0mlen\u001b[0m\u001b[1;33m(\u001b[0m\u001b[0mall_args\u001b[0m\u001b[1;33m)\u001b[0m\u001b[1;33m\u001b[0m\u001b[1;33m\u001b[0m\u001b[0m\n\u001b[0;32m     62\u001b[0m             \u001b[1;32mif\u001b[0m \u001b[0mextra_args\u001b[0m \u001b[1;33m<=\u001b[0m \u001b[1;36m0\u001b[0m\u001b[1;33m:\u001b[0m\u001b[1;33m\u001b[0m\u001b[1;33m\u001b[0m\u001b[0m\n\u001b[1;32m---> 63\u001b[1;33m                 \u001b[1;32mreturn\u001b[0m \u001b[0mf\u001b[0m\u001b[1;33m(\u001b[0m\u001b[1;33m*\u001b[0m\u001b[0margs\u001b[0m\u001b[1;33m,\u001b[0m \u001b[1;33m**\u001b[0m\u001b[0mkwargs\u001b[0m\u001b[1;33m)\u001b[0m\u001b[1;33m\u001b[0m\u001b[1;33m\u001b[0m\u001b[0m\n\u001b[0m\u001b[0;32m     64\u001b[0m \u001b[1;33m\u001b[0m\u001b[0m\n\u001b[0;32m     65\u001b[0m             \u001b[1;31m# extra_args > 0\u001b[0m\u001b[1;33m\u001b[0m\u001b[1;33m\u001b[0m\u001b[1;33m\u001b[0m\u001b[0m\n",
      "\u001b[1;32mC:\\Anaconda\\envs\\py37\\lib\\site-packages\\sklearn\\utils\\validation.py\u001b[0m in \u001b[0;36mcheck_array\u001b[1;34m(array, accept_sparse, accept_large_sparse, dtype, order, copy, force_all_finite, ensure_2d, allow_nd, ensure_min_samples, ensure_min_features, estimator)\u001b[0m\n\u001b[0;32m    719\u001b[0m         \u001b[1;32mif\u001b[0m \u001b[0mforce_all_finite\u001b[0m\u001b[1;33m:\u001b[0m\u001b[1;33m\u001b[0m\u001b[1;33m\u001b[0m\u001b[0m\n\u001b[0;32m    720\u001b[0m             _assert_all_finite(array,\n\u001b[1;32m--> 721\u001b[1;33m                                allow_nan=force_all_finite == 'allow-nan')\n\u001b[0m\u001b[0;32m    722\u001b[0m \u001b[1;33m\u001b[0m\u001b[0m\n\u001b[0;32m    723\u001b[0m     \u001b[1;32mif\u001b[0m \u001b[0mensure_min_samples\u001b[0m \u001b[1;33m>\u001b[0m \u001b[1;36m0\u001b[0m\u001b[1;33m:\u001b[0m\u001b[1;33m\u001b[0m\u001b[1;33m\u001b[0m\u001b[0m\n",
      "\u001b[1;32mC:\\Anaconda\\envs\\py37\\lib\\site-packages\\sklearn\\utils\\validation.py\u001b[0m in \u001b[0;36m_assert_all_finite\u001b[1;34m(X, allow_nan, msg_dtype)\u001b[0m\n\u001b[0;32m    104\u001b[0m                     \u001b[0mmsg_err\u001b[0m\u001b[1;33m.\u001b[0m\u001b[0mformat\u001b[0m\u001b[1;33m\u001b[0m\u001b[1;33m\u001b[0m\u001b[0m\n\u001b[0;32m    105\u001b[0m                     (type_err,\n\u001b[1;32m--> 106\u001b[1;33m                      msg_dtype if msg_dtype is not None else X.dtype)\n\u001b[0m\u001b[0;32m    107\u001b[0m             )\n\u001b[0;32m    108\u001b[0m     \u001b[1;31m# for object dtype data, we only check for NaNs (GH-13254)\u001b[0m\u001b[1;33m\u001b[0m\u001b[1;33m\u001b[0m\u001b[1;33m\u001b[0m\u001b[0m\n",
      "\u001b[1;31mValueError\u001b[0m: Input contains NaN, infinity or a value too large for dtype('float64')."
     ]
    }
   ],
   "source": [
    "lin_reg = LinearRegression()\n",
    "lin_reg.fit(X_exp, y)"
   ]
  },
  {
   "cell_type": "code",
   "execution_count": null,
   "id": "7ee5b20f",
   "metadata": {},
   "outputs": [],
   "source": []
  },
  {
   "cell_type": "code",
   "execution_count": 19,
   "id": "00ef04de",
   "metadata": {},
   "outputs": [],
   "source": [
    "import numpy as np\n",
    "from sklearn.linear_model import LinearRegression\n",
    "from sklearn.preprocessing import FunctionTransformer\n",
    "from sklearn.metrics import mean_squared_error\n",
    "\n",
    "# 샘플 데이터 생성\n",
    "np.random.seed(0)\n",
    "X1 = 2 * np.random.rand(100, 1)\n",
    "X2 = 2 * np.random.rand(100, 1)\n",
    "y = (3 * X1**2 + 4 * X1 + 2) * (1 - 0.5 * np.exp(0.2 * X2)) + np.random.randn(100, 1)\n",
    "\n",
    "# 사용자 정의 함수 정의\n",
    "def custom_function(X):\n",
    "    a, b, c, d, e, f = 1, 2, 3, 0.5, 0.2, 1  # 예시로 임의의 계수 사용\n",
    "    return (a * X[:, 0]**2 + b * X[:, 0] + c) * (1 - d * np.exp(e * X[:, 1]))\n"
   ]
  },
  {
   "cell_type": "code",
   "execution_count": 20,
   "id": "ccbef5b9",
   "metadata": {},
   "outputs": [],
   "source": [
    "\n",
    "# FunctionTransformer를 사용하여 사용자 정의 함수를 적용\n",
    "custom_transformer = FunctionTransformer(custom_function, validate=False)\n",
    "X_custom = custom_transformer.transform(np.column_stack((X1, X2)))\n",
    "\n"
   ]
  },
  {
   "cell_type": "code",
   "execution_count": 34,
   "id": "beb726b7",
   "metadata": {},
   "outputs": [
    {
     "ename": "ValueError",
     "evalue": "Expected 2D array, got 1D array instead:\narray=[2.2034019  3.50248337 2.25875484 1.68909838 2.42314612 2.68631182\n 2.0211401  3.62037069 4.79137762 1.37293565 3.48772142 1.86121371\n 2.22201206 4.42477582 1.01649524 1.39907426 0.89001872 3.36027582\n 2.46271645 3.23651299 3.56439553 3.40401833 1.52173961 3.02212096\n 1.43850885 2.610943   1.81372032 4.5107744  2.15499182 2.34432558\n 1.56078414 3.45269475 2.6709455  2.86705945 1.14438044 2.56553581\n 2.57644287 2.45148049 3.62839758 3.0789047  1.40883266 2.31954609\n 3.13179113 0.92989772 2.30604227 2.52432187 1.92709641 0.99487704\n 1.55939312 1.26808325 3.08793129 1.61526568 5.06582176 1.24334378\n 1.90320799 1.11761882 2.26451262 1.58914523 2.36028555 2.04919353\n 1.26726102 1.39798576 2.44387538 1.0629947  1.02997811 1.48501134\n 4.46895815 1.44775148 3.02705899 1.58910105 4.11785685 2.81336306\n 4.91509887 3.41577645 2.55017157 1.43325944 1.89588359 0.97395728\n 1.5296212  1.74301764 2.17897128 1.91773678 1.21148253 3.46022867\n 1.79131392 1.56712059 2.35478703 1.25163997 2.19086941 4.40989138\n 1.93602908 3.3994688  1.65928825 2.14178028 1.473075   1.5144142\n 3.04094532 1.37598245 4.42573373 1.22297764].\nReshape your data either using array.reshape(-1, 1) if your data has a single feature or array.reshape(1, -1) if it contains a single sample.",
     "output_type": "error",
     "traceback": [
      "\u001b[1;31m---------------------------------------------------------------------------\u001b[0m",
      "\u001b[1;31mValueError\u001b[0m                                Traceback (most recent call last)",
      "\u001b[1;32m~\\AppData\\Local\\Temp/ipykernel_1824/3836769579.py\u001b[0m in \u001b[0;36m<module>\u001b[1;34m\u001b[0m\n\u001b[0;32m     24\u001b[0m \u001b[1;31m# 다항 회귀 모델 학습\u001b[0m\u001b[1;33m\u001b[0m\u001b[1;33m\u001b[0m\u001b[1;33m\u001b[0m\u001b[0m\n\u001b[0;32m     25\u001b[0m \u001b[0mlin_reg\u001b[0m \u001b[1;33m=\u001b[0m \u001b[0mLinearRegression\u001b[0m\u001b[1;33m(\u001b[0m\u001b[1;33m)\u001b[0m\u001b[1;33m\u001b[0m\u001b[1;33m\u001b[0m\u001b[0m\n\u001b[1;32m---> 26\u001b[1;33m \u001b[0mlin_reg\u001b[0m\u001b[1;33m.\u001b[0m\u001b[0mfit\u001b[0m\u001b[1;33m(\u001b[0m\u001b[0mX_custom_transformed\u001b[0m\u001b[1;33m,\u001b[0m \u001b[0my\u001b[0m\u001b[1;33m)\u001b[0m\u001b[1;33m\u001b[0m\u001b[1;33m\u001b[0m\u001b[0m\n\u001b[0m\u001b[0;32m     27\u001b[0m \u001b[1;33m\u001b[0m\u001b[0m\n\u001b[0;32m     28\u001b[0m \u001b[1;31m# 회귀 결과 출력\u001b[0m\u001b[1;33m\u001b[0m\u001b[1;33m\u001b[0m\u001b[1;33m\u001b[0m\u001b[0m\n",
      "\u001b[1;32mC:\\Anaconda\\envs\\py37\\lib\\site-packages\\sklearn\\linear_model\\_base.py\u001b[0m in \u001b[0;36mfit\u001b[1;34m(self, X, y, sample_weight)\u001b[0m\n\u001b[0;32m    517\u001b[0m \u001b[1;33m\u001b[0m\u001b[0m\n\u001b[0;32m    518\u001b[0m         X, y = self._validate_data(X, y, accept_sparse=accept_sparse,\n\u001b[1;32m--> 519\u001b[1;33m                                    y_numeric=True, multi_output=True)\n\u001b[0m\u001b[0;32m    520\u001b[0m \u001b[1;33m\u001b[0m\u001b[0m\n\u001b[0;32m    521\u001b[0m         \u001b[1;32mif\u001b[0m \u001b[0msample_weight\u001b[0m \u001b[1;32mis\u001b[0m \u001b[1;32mnot\u001b[0m \u001b[1;32mNone\u001b[0m\u001b[1;33m:\u001b[0m\u001b[1;33m\u001b[0m\u001b[1;33m\u001b[0m\u001b[0m\n",
      "\u001b[1;32mC:\\Anaconda\\envs\\py37\\lib\\site-packages\\sklearn\\base.py\u001b[0m in \u001b[0;36m_validate_data\u001b[1;34m(self, X, y, reset, validate_separately, **check_params)\u001b[0m\n\u001b[0;32m    431\u001b[0m                 \u001b[0my\u001b[0m \u001b[1;33m=\u001b[0m \u001b[0mcheck_array\u001b[0m\u001b[1;33m(\u001b[0m\u001b[0my\u001b[0m\u001b[1;33m,\u001b[0m \u001b[1;33m**\u001b[0m\u001b[0mcheck_y_params\u001b[0m\u001b[1;33m)\u001b[0m\u001b[1;33m\u001b[0m\u001b[1;33m\u001b[0m\u001b[0m\n\u001b[0;32m    432\u001b[0m             \u001b[1;32melse\u001b[0m\u001b[1;33m:\u001b[0m\u001b[1;33m\u001b[0m\u001b[1;33m\u001b[0m\u001b[0m\n\u001b[1;32m--> 433\u001b[1;33m                 \u001b[0mX\u001b[0m\u001b[1;33m,\u001b[0m \u001b[0my\u001b[0m \u001b[1;33m=\u001b[0m \u001b[0mcheck_X_y\u001b[0m\u001b[1;33m(\u001b[0m\u001b[0mX\u001b[0m\u001b[1;33m,\u001b[0m \u001b[0my\u001b[0m\u001b[1;33m,\u001b[0m \u001b[1;33m**\u001b[0m\u001b[0mcheck_params\u001b[0m\u001b[1;33m)\u001b[0m\u001b[1;33m\u001b[0m\u001b[1;33m\u001b[0m\u001b[0m\n\u001b[0m\u001b[0;32m    434\u001b[0m             \u001b[0mout\u001b[0m \u001b[1;33m=\u001b[0m \u001b[0mX\u001b[0m\u001b[1;33m,\u001b[0m \u001b[0my\u001b[0m\u001b[1;33m\u001b[0m\u001b[1;33m\u001b[0m\u001b[0m\n\u001b[0;32m    435\u001b[0m \u001b[1;33m\u001b[0m\u001b[0m\n",
      "\u001b[1;32mC:\\Anaconda\\envs\\py37\\lib\\site-packages\\sklearn\\utils\\validation.py\u001b[0m in \u001b[0;36minner_f\u001b[1;34m(*args, **kwargs)\u001b[0m\n\u001b[0;32m     61\u001b[0m             \u001b[0mextra_args\u001b[0m \u001b[1;33m=\u001b[0m \u001b[0mlen\u001b[0m\u001b[1;33m(\u001b[0m\u001b[0margs\u001b[0m\u001b[1;33m)\u001b[0m \u001b[1;33m-\u001b[0m \u001b[0mlen\u001b[0m\u001b[1;33m(\u001b[0m\u001b[0mall_args\u001b[0m\u001b[1;33m)\u001b[0m\u001b[1;33m\u001b[0m\u001b[1;33m\u001b[0m\u001b[0m\n\u001b[0;32m     62\u001b[0m             \u001b[1;32mif\u001b[0m \u001b[0mextra_args\u001b[0m \u001b[1;33m<=\u001b[0m \u001b[1;36m0\u001b[0m\u001b[1;33m:\u001b[0m\u001b[1;33m\u001b[0m\u001b[1;33m\u001b[0m\u001b[0m\n\u001b[1;32m---> 63\u001b[1;33m                 \u001b[1;32mreturn\u001b[0m \u001b[0mf\u001b[0m\u001b[1;33m(\u001b[0m\u001b[1;33m*\u001b[0m\u001b[0margs\u001b[0m\u001b[1;33m,\u001b[0m \u001b[1;33m**\u001b[0m\u001b[0mkwargs\u001b[0m\u001b[1;33m)\u001b[0m\u001b[1;33m\u001b[0m\u001b[1;33m\u001b[0m\u001b[0m\n\u001b[0m\u001b[0;32m     64\u001b[0m \u001b[1;33m\u001b[0m\u001b[0m\n\u001b[0;32m     65\u001b[0m             \u001b[1;31m# extra_args > 0\u001b[0m\u001b[1;33m\u001b[0m\u001b[1;33m\u001b[0m\u001b[1;33m\u001b[0m\u001b[0m\n",
      "\u001b[1;32mC:\\Anaconda\\envs\\py37\\lib\\site-packages\\sklearn\\utils\\validation.py\u001b[0m in \u001b[0;36mcheck_X_y\u001b[1;34m(X, y, accept_sparse, accept_large_sparse, dtype, order, copy, force_all_finite, ensure_2d, allow_nd, multi_output, ensure_min_samples, ensure_min_features, y_numeric, estimator)\u001b[0m\n\u001b[0;32m    876\u001b[0m                     \u001b[0mensure_min_samples\u001b[0m\u001b[1;33m=\u001b[0m\u001b[0mensure_min_samples\u001b[0m\u001b[1;33m,\u001b[0m\u001b[1;33m\u001b[0m\u001b[1;33m\u001b[0m\u001b[0m\n\u001b[0;32m    877\u001b[0m                     \u001b[0mensure_min_features\u001b[0m\u001b[1;33m=\u001b[0m\u001b[0mensure_min_features\u001b[0m\u001b[1;33m,\u001b[0m\u001b[1;33m\u001b[0m\u001b[1;33m\u001b[0m\u001b[0m\n\u001b[1;32m--> 878\u001b[1;33m                     estimator=estimator)\n\u001b[0m\u001b[0;32m    879\u001b[0m     \u001b[1;32mif\u001b[0m \u001b[0mmulti_output\u001b[0m\u001b[1;33m:\u001b[0m\u001b[1;33m\u001b[0m\u001b[1;33m\u001b[0m\u001b[0m\n\u001b[0;32m    880\u001b[0m         y = check_array(y, accept_sparse='csr', force_all_finite=True,\n",
      "\u001b[1;32mC:\\Anaconda\\envs\\py37\\lib\\site-packages\\sklearn\\utils\\validation.py\u001b[0m in \u001b[0;36minner_f\u001b[1;34m(*args, **kwargs)\u001b[0m\n\u001b[0;32m     61\u001b[0m             \u001b[0mextra_args\u001b[0m \u001b[1;33m=\u001b[0m \u001b[0mlen\u001b[0m\u001b[1;33m(\u001b[0m\u001b[0margs\u001b[0m\u001b[1;33m)\u001b[0m \u001b[1;33m-\u001b[0m \u001b[0mlen\u001b[0m\u001b[1;33m(\u001b[0m\u001b[0mall_args\u001b[0m\u001b[1;33m)\u001b[0m\u001b[1;33m\u001b[0m\u001b[1;33m\u001b[0m\u001b[0m\n\u001b[0;32m     62\u001b[0m             \u001b[1;32mif\u001b[0m \u001b[0mextra_args\u001b[0m \u001b[1;33m<=\u001b[0m \u001b[1;36m0\u001b[0m\u001b[1;33m:\u001b[0m\u001b[1;33m\u001b[0m\u001b[1;33m\u001b[0m\u001b[0m\n\u001b[1;32m---> 63\u001b[1;33m                 \u001b[1;32mreturn\u001b[0m \u001b[0mf\u001b[0m\u001b[1;33m(\u001b[0m\u001b[1;33m*\u001b[0m\u001b[0margs\u001b[0m\u001b[1;33m,\u001b[0m \u001b[1;33m**\u001b[0m\u001b[0mkwargs\u001b[0m\u001b[1;33m)\u001b[0m\u001b[1;33m\u001b[0m\u001b[1;33m\u001b[0m\u001b[0m\n\u001b[0m\u001b[0;32m     64\u001b[0m \u001b[1;33m\u001b[0m\u001b[0m\n\u001b[0;32m     65\u001b[0m             \u001b[1;31m# extra_args > 0\u001b[0m\u001b[1;33m\u001b[0m\u001b[1;33m\u001b[0m\u001b[1;33m\u001b[0m\u001b[0m\n",
      "\u001b[1;32mC:\\Anaconda\\envs\\py37\\lib\\site-packages\\sklearn\\utils\\validation.py\u001b[0m in \u001b[0;36mcheck_array\u001b[1;34m(array, accept_sparse, accept_large_sparse, dtype, order, copy, force_all_finite, ensure_2d, allow_nd, ensure_min_samples, ensure_min_features, estimator)\u001b[0m\n\u001b[0;32m    696\u001b[0m                     \u001b[1;34m\"Reshape your data either using array.reshape(-1, 1) if \"\u001b[0m\u001b[1;33m\u001b[0m\u001b[1;33m\u001b[0m\u001b[0m\n\u001b[0;32m    697\u001b[0m                     \u001b[1;34m\"your data has a single feature or array.reshape(1, -1) \"\u001b[0m\u001b[1;33m\u001b[0m\u001b[1;33m\u001b[0m\u001b[0m\n\u001b[1;32m--> 698\u001b[1;33m                     \"if it contains a single sample.\".format(array))\n\u001b[0m\u001b[0;32m    699\u001b[0m \u001b[1;33m\u001b[0m\u001b[0m\n\u001b[0;32m    700\u001b[0m         \u001b[1;31m# make sure we actually converted to numeric:\u001b[0m\u001b[1;33m\u001b[0m\u001b[1;33m\u001b[0m\u001b[1;33m\u001b[0m\u001b[0m\n",
      "\u001b[1;31mValueError\u001b[0m: Expected 2D array, got 1D array instead:\narray=[2.2034019  3.50248337 2.25875484 1.68909838 2.42314612 2.68631182\n 2.0211401  3.62037069 4.79137762 1.37293565 3.48772142 1.86121371\n 2.22201206 4.42477582 1.01649524 1.39907426 0.89001872 3.36027582\n 2.46271645 3.23651299 3.56439553 3.40401833 1.52173961 3.02212096\n 1.43850885 2.610943   1.81372032 4.5107744  2.15499182 2.34432558\n 1.56078414 3.45269475 2.6709455  2.86705945 1.14438044 2.56553581\n 2.57644287 2.45148049 3.62839758 3.0789047  1.40883266 2.31954609\n 3.13179113 0.92989772 2.30604227 2.52432187 1.92709641 0.99487704\n 1.55939312 1.26808325 3.08793129 1.61526568 5.06582176 1.24334378\n 1.90320799 1.11761882 2.26451262 1.58914523 2.36028555 2.04919353\n 1.26726102 1.39798576 2.44387538 1.0629947  1.02997811 1.48501134\n 4.46895815 1.44775148 3.02705899 1.58910105 4.11785685 2.81336306\n 4.91509887 3.41577645 2.55017157 1.43325944 1.89588359 0.97395728\n 1.5296212  1.74301764 2.17897128 1.91773678 1.21148253 3.46022867\n 1.79131392 1.56712059 2.35478703 1.25163997 2.19086941 4.40989138\n 1.93602908 3.3994688  1.65928825 2.14178028 1.473075   1.5144142\n 3.04094532 1.37598245 4.42573373 1.22297764].\nReshape your data either using array.reshape(-1, 1) if your data has a single feature or array.reshape(1, -1) if it contains a single sample."
     ]
    }
   ],
   "source": [
    "import numpy as np\n",
    "from sklearn.linear_model import LinearRegression\n",
    "from sklearn.preprocessing import FunctionTransformer\n",
    "from sklearn.metrics import mean_squared_error\n",
    "\n",
    "# 샘플 데이터 생성\n",
    "np.random.seed(0)\n",
    "X1 = 2 * np.random.rand(100, 1)\n",
    "X2 = 2 * np.random.rand(100, 1)\n",
    "y = (3 * X1**2 + 4 * X1 + 2) * (1 - 0.5 * np.exp(0.2 * X2)) + np.random.randn(100, 1)\n",
    "\n",
    "# 사용자 정의 함수 정의\n",
    "def custom_function(X):\n",
    "    a, b, c, d, e, f = 1, 2, 3, 0.5, 0.2, 1  # 예시로 임의의 계수 사용\n",
    "    return (a * X[:, 0]**2 + b * X[:, 0] + c) * (1 - d * np.exp(e * X[:, 1]))\n",
    "\n",
    "# 데이터를 2D 배열로 변환\n",
    "X_custom = np.column_stack((X1, X2))\n",
    "\n",
    "# FunctionTransformer를 사용하여 사용자 정의 함수를 적용\n",
    "custom_transformer = FunctionTransformer(custom_function, validate=False)\n",
    "X_custom_transformed = custom_transformer.transform(X_custom)\n",
    "\n",
    "# 다항 회귀 모델 학습\n",
    "lin_reg = LinearRegression()\n",
    "lin_reg.fit(X_custom_transformed, y)\n",
    "\n",
    "# 회귀 결과 출력\n",
    "print(\"회귀 계수 (계수, 편향):\", lin_reg.coef_, lin_reg.intercept_)\n",
    "\n",
    "# 예측값 계산\n",
    "y_pred = lin_reg.predict(X_custom_transformed)\n",
    "\n",
    "# MSE 계산\n",
    "mse = mean_squared_error(y, y_pred)\n",
    "print(\"평균 제곱 오차 (MSE):\", mse)"
   ]
  },
  {
   "cell_type": "code",
   "execution_count": 33,
   "id": "b6129a72",
   "metadata": {},
   "outputs": [
    {
     "name": "stdout",
     "output_type": "stream",
     "text": [
      "회귀 계수 (계수, 편향): [[2.2213358]] [-1.64726083]\n"
     ]
    },
    {
     "ename": "ValueError",
     "evalue": "Expected 2D array, got 1D array instead:\narray=[2.2034019  3.50248337 2.25875484 1.68909838 2.42314612 2.68631182\n 2.0211401  3.62037069 4.79137762 1.37293565 3.48772142 1.86121371\n 2.22201206 4.42477582 1.01649524 1.39907426 0.89001872 3.36027582\n 2.46271645 3.23651299 3.56439553 3.40401833 1.52173961 3.02212096\n 1.43850885 2.610943   1.81372032 4.5107744  2.15499182 2.34432558\n 1.56078414 3.45269475 2.6709455  2.86705945 1.14438044 2.56553581\n 2.57644287 2.45148049 3.62839758 3.0789047  1.40883266 2.31954609\n 3.13179113 0.92989772 2.30604227 2.52432187 1.92709641 0.99487704\n 1.55939312 1.26808325 3.08793129 1.61526568 5.06582176 1.24334378\n 1.90320799 1.11761882 2.26451262 1.58914523 2.36028555 2.04919353\n 1.26726102 1.39798576 2.44387538 1.0629947  1.02997811 1.48501134\n 4.46895815 1.44775148 3.02705899 1.58910105 4.11785685 2.81336306\n 4.91509887 3.41577645 2.55017157 1.43325944 1.89588359 0.97395728\n 1.5296212  1.74301764 2.17897128 1.91773678 1.21148253 3.46022867\n 1.79131392 1.56712059 2.35478703 1.25163997 2.19086941 4.40989138\n 1.93602908 3.3994688  1.65928825 2.14178028 1.473075   1.5144142\n 3.04094532 1.37598245 4.42573373 1.22297764].\nReshape your data either using array.reshape(-1, 1) if your data has a single feature or array.reshape(1, -1) if it contains a single sample.",
     "output_type": "error",
     "traceback": [
      "\u001b[1;31m---------------------------------------------------------------------------\u001b[0m",
      "\u001b[1;31mValueError\u001b[0m                                Traceback (most recent call last)",
      "\u001b[1;32m~\\AppData\\Local\\Temp/ipykernel_1824/2266643587.py\u001b[0m in \u001b[0;36m<module>\u001b[1;34m\u001b[0m\n\u001b[0;32m      3\u001b[0m \u001b[1;33m\u001b[0m\u001b[0m\n\u001b[0;32m      4\u001b[0m \u001b[1;31m# 예측값 계산\u001b[0m\u001b[1;33m\u001b[0m\u001b[1;33m\u001b[0m\u001b[1;33m\u001b[0m\u001b[0m\n\u001b[1;32m----> 5\u001b[1;33m \u001b[0my_pred\u001b[0m \u001b[1;33m=\u001b[0m \u001b[0mlin_reg\u001b[0m\u001b[1;33m.\u001b[0m\u001b[0mpredict\u001b[0m\u001b[1;33m(\u001b[0m\u001b[0mX_custom\u001b[0m\u001b[1;33m)\u001b[0m\u001b[1;33m\u001b[0m\u001b[1;33m\u001b[0m\u001b[0m\n\u001b[0m\u001b[0;32m      6\u001b[0m \u001b[1;33m\u001b[0m\u001b[0m\n\u001b[0;32m      7\u001b[0m \u001b[1;31m# MSE 계산\u001b[0m\u001b[1;33m\u001b[0m\u001b[1;33m\u001b[0m\u001b[1;33m\u001b[0m\u001b[0m\n",
      "\u001b[1;32mC:\\Anaconda\\envs\\py37\\lib\\site-packages\\sklearn\\linear_model\\_base.py\u001b[0m in \u001b[0;36mpredict\u001b[1;34m(self, X)\u001b[0m\n\u001b[0;32m    236\u001b[0m             \u001b[0mReturns\u001b[0m \u001b[0mpredicted\u001b[0m \u001b[0mvalues\u001b[0m\u001b[1;33m.\u001b[0m\u001b[1;33m\u001b[0m\u001b[1;33m\u001b[0m\u001b[0m\n\u001b[0;32m    237\u001b[0m         \"\"\"\n\u001b[1;32m--> 238\u001b[1;33m         \u001b[1;32mreturn\u001b[0m \u001b[0mself\u001b[0m\u001b[1;33m.\u001b[0m\u001b[0m_decision_function\u001b[0m\u001b[1;33m(\u001b[0m\u001b[0mX\u001b[0m\u001b[1;33m)\u001b[0m\u001b[1;33m\u001b[0m\u001b[1;33m\u001b[0m\u001b[0m\n\u001b[0m\u001b[0;32m    239\u001b[0m \u001b[1;33m\u001b[0m\u001b[0m\n\u001b[0;32m    240\u001b[0m     \u001b[0m_preprocess_data\u001b[0m \u001b[1;33m=\u001b[0m \u001b[0mstaticmethod\u001b[0m\u001b[1;33m(\u001b[0m\u001b[0m_preprocess_data\u001b[0m\u001b[1;33m)\u001b[0m\u001b[1;33m\u001b[0m\u001b[1;33m\u001b[0m\u001b[0m\n",
      "\u001b[1;32mC:\\Anaconda\\envs\\py37\\lib\\site-packages\\sklearn\\linear_model\\_base.py\u001b[0m in \u001b[0;36m_decision_function\u001b[1;34m(self, X)\u001b[0m\n\u001b[0;32m    218\u001b[0m         \u001b[0mcheck_is_fitted\u001b[0m\u001b[1;33m(\u001b[0m\u001b[0mself\u001b[0m\u001b[1;33m)\u001b[0m\u001b[1;33m\u001b[0m\u001b[1;33m\u001b[0m\u001b[0m\n\u001b[0;32m    219\u001b[0m \u001b[1;33m\u001b[0m\u001b[0m\n\u001b[1;32m--> 220\u001b[1;33m         \u001b[0mX\u001b[0m \u001b[1;33m=\u001b[0m \u001b[0mcheck_array\u001b[0m\u001b[1;33m(\u001b[0m\u001b[0mX\u001b[0m\u001b[1;33m,\u001b[0m \u001b[0maccept_sparse\u001b[0m\u001b[1;33m=\u001b[0m\u001b[1;33m[\u001b[0m\u001b[1;34m'csr'\u001b[0m\u001b[1;33m,\u001b[0m \u001b[1;34m'csc'\u001b[0m\u001b[1;33m,\u001b[0m \u001b[1;34m'coo'\u001b[0m\u001b[1;33m]\u001b[0m\u001b[1;33m)\u001b[0m\u001b[1;33m\u001b[0m\u001b[1;33m\u001b[0m\u001b[0m\n\u001b[0m\u001b[0;32m    221\u001b[0m         return safe_sparse_dot(X, self.coef_.T,\n\u001b[0;32m    222\u001b[0m                                dense_output=True) + self.intercept_\n",
      "\u001b[1;32mC:\\Anaconda\\envs\\py37\\lib\\site-packages\\sklearn\\utils\\validation.py\u001b[0m in \u001b[0;36minner_f\u001b[1;34m(*args, **kwargs)\u001b[0m\n\u001b[0;32m     61\u001b[0m             \u001b[0mextra_args\u001b[0m \u001b[1;33m=\u001b[0m \u001b[0mlen\u001b[0m\u001b[1;33m(\u001b[0m\u001b[0margs\u001b[0m\u001b[1;33m)\u001b[0m \u001b[1;33m-\u001b[0m \u001b[0mlen\u001b[0m\u001b[1;33m(\u001b[0m\u001b[0mall_args\u001b[0m\u001b[1;33m)\u001b[0m\u001b[1;33m\u001b[0m\u001b[1;33m\u001b[0m\u001b[0m\n\u001b[0;32m     62\u001b[0m             \u001b[1;32mif\u001b[0m \u001b[0mextra_args\u001b[0m \u001b[1;33m<=\u001b[0m \u001b[1;36m0\u001b[0m\u001b[1;33m:\u001b[0m\u001b[1;33m\u001b[0m\u001b[1;33m\u001b[0m\u001b[0m\n\u001b[1;32m---> 63\u001b[1;33m                 \u001b[1;32mreturn\u001b[0m \u001b[0mf\u001b[0m\u001b[1;33m(\u001b[0m\u001b[1;33m*\u001b[0m\u001b[0margs\u001b[0m\u001b[1;33m,\u001b[0m \u001b[1;33m**\u001b[0m\u001b[0mkwargs\u001b[0m\u001b[1;33m)\u001b[0m\u001b[1;33m\u001b[0m\u001b[1;33m\u001b[0m\u001b[0m\n\u001b[0m\u001b[0;32m     64\u001b[0m \u001b[1;33m\u001b[0m\u001b[0m\n\u001b[0;32m     65\u001b[0m             \u001b[1;31m# extra_args > 0\u001b[0m\u001b[1;33m\u001b[0m\u001b[1;33m\u001b[0m\u001b[1;33m\u001b[0m\u001b[0m\n",
      "\u001b[1;32mC:\\Anaconda\\envs\\py37\\lib\\site-packages\\sklearn\\utils\\validation.py\u001b[0m in \u001b[0;36mcheck_array\u001b[1;34m(array, accept_sparse, accept_large_sparse, dtype, order, copy, force_all_finite, ensure_2d, allow_nd, ensure_min_samples, ensure_min_features, estimator)\u001b[0m\n\u001b[0;32m    696\u001b[0m                     \u001b[1;34m\"Reshape your data either using array.reshape(-1, 1) if \"\u001b[0m\u001b[1;33m\u001b[0m\u001b[1;33m\u001b[0m\u001b[0m\n\u001b[0;32m    697\u001b[0m                     \u001b[1;34m\"your data has a single feature or array.reshape(1, -1) \"\u001b[0m\u001b[1;33m\u001b[0m\u001b[1;33m\u001b[0m\u001b[0m\n\u001b[1;32m--> 698\u001b[1;33m                     \"if it contains a single sample.\".format(array))\n\u001b[0m\u001b[0;32m    699\u001b[0m \u001b[1;33m\u001b[0m\u001b[0m\n\u001b[0;32m    700\u001b[0m         \u001b[1;31m# make sure we actually converted to numeric:\u001b[0m\u001b[1;33m\u001b[0m\u001b[1;33m\u001b[0m\u001b[1;33m\u001b[0m\u001b[0m\n",
      "\u001b[1;31mValueError\u001b[0m: Expected 2D array, got 1D array instead:\narray=[2.2034019  3.50248337 2.25875484 1.68909838 2.42314612 2.68631182\n 2.0211401  3.62037069 4.79137762 1.37293565 3.48772142 1.86121371\n 2.22201206 4.42477582 1.01649524 1.39907426 0.89001872 3.36027582\n 2.46271645 3.23651299 3.56439553 3.40401833 1.52173961 3.02212096\n 1.43850885 2.610943   1.81372032 4.5107744  2.15499182 2.34432558\n 1.56078414 3.45269475 2.6709455  2.86705945 1.14438044 2.56553581\n 2.57644287 2.45148049 3.62839758 3.0789047  1.40883266 2.31954609\n 3.13179113 0.92989772 2.30604227 2.52432187 1.92709641 0.99487704\n 1.55939312 1.26808325 3.08793129 1.61526568 5.06582176 1.24334378\n 1.90320799 1.11761882 2.26451262 1.58914523 2.36028555 2.04919353\n 1.26726102 1.39798576 2.44387538 1.0629947  1.02997811 1.48501134\n 4.46895815 1.44775148 3.02705899 1.58910105 4.11785685 2.81336306\n 4.91509887 3.41577645 2.55017157 1.43325944 1.89588359 0.97395728\n 1.5296212  1.74301764 2.17897128 1.91773678 1.21148253 3.46022867\n 1.79131392 1.56712059 2.35478703 1.25163997 2.19086941 4.40989138\n 1.93602908 3.3994688  1.65928825 2.14178028 1.473075   1.5144142\n 3.04094532 1.37598245 4.42573373 1.22297764].\nReshape your data either using array.reshape(-1, 1) if your data has a single feature or array.reshape(1, -1) if it contains a single sample."
     ]
    }
   ],
   "source": [
    "\n",
    "# 회귀 결과 출력\n",
    "print(\"회귀 계수 (계수, 편향):\", lin_reg.coef_, lin_reg.intercept_)\n",
    "\n",
    "# 예측값 계산\n",
    "y_pred = lin_reg.predict(X_custom)\n",
    "\n",
    "# MSE 계산\n",
    "mse = mean_squared_error(y, y_pred)\n",
    "print(\"평균 제곱 오차 (MSE):\", mse)"
   ]
  },
  {
   "cell_type": "code",
   "execution_count": null,
   "id": "c812b324",
   "metadata": {},
   "outputs": [],
   "source": [
    "# 회귀 결과 출력\n",
    "print(\"회귀 계수 (계수, 편향):\", lin_reg.coef_, lin_reg.intercept_)\n",
    "\n",
    "\n",
    "# 예측값 계산\n",
    "y_pred = lin_reg.predict(X_exp)\n",
    "\n",
    "# MSE 계산\n",
    "mse = mean_squared_error(y, y_pred)\n",
    "print(\"평균 제곱 오차 (MSE):\", mse)\n"
   ]
  },
  {
   "cell_type": "code",
   "execution_count": null,
   "id": "76e8f6a2",
   "metadata": {},
   "outputs": [],
   "source": [
    "\n",
    "\n",
    "# 샘플 데이터 생성\n",
    "np.random.seed(0)\n",
    "X1 = 2 * np.random.rand(100, 1)\n",
    "X2 = 2 * np.random.rand(100, 1)\n",
    "y = 3 * np.exp(X) + np.random.randn(100, 1)\n",
    "\n",
    "# 사용자 정의 함수 정의 (지수 함수)\n",
    "def exponential_features(X):\n",
    "    return np.exp(X)\n",
    "\n",
    "# FunctionTransformer를 사용하여 사용자 정의 함수를 적용\n",
    "exp_transformer = FunctionTransformer(exponential_features, validate=False)\n",
    "X_exp = exp_transformer.transform(X)\n",
    "\n",
    "# 다항 회귀 모델 학습\n",
    "lin_reg = LinearRegression()\n",
    "lin_reg.fit(X_exp, y)\n",
    "\n",
    "# 회귀 결과 출력\n",
    "print(\"회귀 계수 (계수, 편향):\", lin_reg.coef_, lin_reg.intercept_)\n",
    "\n",
    "\n",
    "# 예측값 계산\n",
    "y_pred = lin_reg.predict(X_exp)\n",
    "\n",
    "# MSE 계산\n",
    "mse = mean_squared_error(y, y_pred)\n",
    "print(\"평균 제곱 오차 (MSE):\", mse)\n",
    "\n",
    "\n",
    "\n",
    "\n",
    "# 예측 결과 시각화\n",
    "X_new = np.linspace(0, 2, 100).reshape(100, 1)\n",
    "X_new_exp = exp_transformer.transform(X_new)\n",
    "y_new = lin_reg.predict(X_new_exp)\n",
    "\n",
    "plt.scatter(X, y, label='실제 데이터')\n",
    "plt.plot(X_new, y_new, 'r-', label='지수 함수 회귀 예측')\n",
    "plt.xlabel('X')\n",
    "plt.ylabel('y')\n",
    "plt.legend()\n",
    "plt.show()"
   ]
  },
  {
   "cell_type": "code",
   "execution_count": null,
   "id": "26131bba",
   "metadata": {},
   "outputs": [],
   "source": []
  },
  {
   "cell_type": "code",
   "execution_count": null,
   "id": "d755a884",
   "metadata": {},
   "outputs": [],
   "source": []
  },
  {
   "cell_type": "code",
   "execution_count": null,
   "id": "9dfd1637",
   "metadata": {},
   "outputs": [],
   "source": []
  },
  {
   "cell_type": "code",
   "execution_count": null,
   "id": "590afac9",
   "metadata": {},
   "outputs": [],
   "source": []
  },
  {
   "cell_type": "code",
   "execution_count": null,
   "id": "f65ae171",
   "metadata": {},
   "outputs": [],
   "source": []
  },
  {
   "cell_type": "code",
   "execution_count": null,
   "id": "f5f2e94c",
   "metadata": {},
   "outputs": [],
   "source": [
    "# 예측 결과 시각화 (2D 플롯을 위해 첫 번째 특성만 사용)\n",
    "X1_new = np.linspace(100, 800, 100).reshape(100, 1)\n",
    "X2_new = np.linspace(100, 800, 100).reshape(100, 1)\n",
    "X_new = np.c_[X1_new, X2_new]\n",
    "X_new_poly = poly_features.transform(X_new)\n",
    "y_new = lin_reg.predict(X_new_poly)"
   ]
  },
  {
   "cell_type": "code",
   "execution_count": null,
   "id": "94e2b677",
   "metadata": {},
   "outputs": [],
   "source": [
    "fig = plt.figure()\n",
    "ax = fig.add_subplot(111, projection='3d')\n",
    "ax.scatter(X1, X2, y, label='실제 데이터')\n",
    "ax.plot_surface(X1_new, X2_new, y_new.reshape(100, 100), color='r', alpha=0.5, label='다항 회귀 예측')\n",
    "ax.set_xlabel('X1')\n",
    "ax.set_ylabel('X2')\n",
    "ax.set_zlabel('y')\n",
    "plt.legend()\n",
    "plt.show()"
   ]
  },
  {
   "cell_type": "code",
   "execution_count": null,
   "id": "26591acc",
   "metadata": {},
   "outputs": [],
   "source": []
  },
  {
   "cell_type": "code",
   "execution_count": null,
   "id": "07346a90",
   "metadata": {},
   "outputs": [],
   "source": []
  },
  {
   "cell_type": "code",
   "execution_count": null,
   "id": "dfcbe552",
   "metadata": {},
   "outputs": [],
   "source": []
  },
  {
   "cell_type": "code",
   "execution_count": null,
   "id": "5c35593a",
   "metadata": {},
   "outputs": [],
   "source": [
    "np.random.seed(0)\n",
    "X1 = 2 * np.random.rand(100, 1)\n",
    "X2 = 2 * np.random.rand(100, 1)\n",
    "y = 3 * X1**2 + 4 * X1 * X2 + 2 * X2**2 + 5 + np.random.randn(100, 1)\n"
   ]
  },
  {
   "cell_type": "code",
   "execution_count": null,
   "id": "58b5c3ba",
   "metadata": {},
   "outputs": [],
   "source": [
    "# 다항식 특성 추가\n",
    "poly_features = PolynomialFeatures(degree=2, include_bias=False)\n",
    "X_poly = poly_features.fit_transform(np.c_[X1, X2])"
   ]
  },
  {
   "cell_type": "code",
   "execution_count": null,
   "id": "02c50d77",
   "metadata": {},
   "outputs": [],
   "source": [
    "# 다항 회귀 모델 학습\n",
    "lin_reg = LinearRegression()\n",
    "lin_reg.fit(X_poly, y)"
   ]
  },
  {
   "cell_type": "code",
   "execution_count": null,
   "id": "ea5dec74",
   "metadata": {},
   "outputs": [],
   "source": [
    "print(\"회귀 계수 (계수, 편향):\", lin_reg.coef_, lin_reg.intercept_)\n",
    "# 1, x1, x2, x1^2, x1*x2, x2^2\n"
   ]
  },
  {
   "cell_type": "code",
   "execution_count": null,
   "id": "eb774260",
   "metadata": {},
   "outputs": [],
   "source": [
    "#4.7652771 + 0.53172401*X1 + 0.544274252*X2 + 2.7339852*X1**2 + 3.68063661*X1*X2 + 1.79278327*X2**2"
   ]
  },
  {
   "cell_type": "code",
   "execution_count": null,
   "id": "ede28c4f",
   "metadata": {},
   "outputs": [],
   "source": [
    "# 예측값 계산\n",
    "y_pred = lin_reg.predict(X_poly)\n",
    "\n",
    "# MSE 계산\n",
    "mse = mean_squared_error(y, y_pred)\n",
    "print(\"평균 제곱 오차 (MSE):\", mse)\n",
    "\n",
    "# 계수 및 편향 출력\n",
    "print(\"회귀 계수 (계수, 편향):\", lin_reg.coef_, lin_reg.intercept_)"
   ]
  },
  {
   "cell_type": "code",
   "execution_count": null,
   "id": "fb7f3327",
   "metadata": {},
   "outputs": [],
   "source": [
    "# 예측 결과 시각화 (2D 플롯을 위해 첫 번째 특성만 사용)\n",
    "X1_new = np.linspace(0, 2, 100).reshape(100, 1)\n",
    "X2_new = np.linspace(0, 2, 100).reshape(100, 1)\n",
    "X_new = np.c_[X1_new, X2_new]\n",
    "X_new_poly = poly_features.transform(X_new)\n",
    "y_new = lin_reg.predict(X_new_poly)"
   ]
  },
  {
   "cell_type": "code",
   "execution_count": null,
   "id": "0575e29e",
   "metadata": {},
   "outputs": [],
   "source": [
    "# 3D 플롯으로 시각화\n",
    "fig = plt.figure()\n",
    "ax = fig.add_subplot(111, projection='3d')\n",
    "ax.scatter(X1, X2, y, label='실제 데이터')\n",
    "ax.plot_surface(X1_new, X2_new, y_new.reshape(100, 100), color='r', alpha=0.5, label='다항 회귀 예측')\n",
    "ax.set_xlabel('X1')\n",
    "ax.set_ylabel('X2')\n",
    "ax.set_zlabel('y')\n",
    "plt.legend()\n",
    "plt.show()"
   ]
  },
  {
   "cell_type": "code",
   "execution_count": null,
   "id": "84ecd1b7",
   "metadata": {},
   "outputs": [],
   "source": []
  }
 ],
 "metadata": {
  "kernelspec": {
   "display_name": "py37",
   "language": "python",
   "name": "py37"
  },
  "language_info": {
   "codemirror_mode": {
    "name": "ipython",
    "version": 3
   },
   "file_extension": ".py",
   "mimetype": "text/x-python",
   "name": "python",
   "nbconvert_exporter": "python",
   "pygments_lexer": "ipython3",
   "version": "3.7.11"
  }
 },
 "nbformat": 4,
 "nbformat_minor": 5
}
